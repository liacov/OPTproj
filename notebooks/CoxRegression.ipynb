{
 "cells": [
  {
   "cell_type": "code",
   "execution_count": 1,
   "metadata": {},
   "outputs": [],
   "source": [
    "import numpy as np\n",
    "import pandas as pd\n",
    "import matplotlib.pyplot as plt"
   ]
  },
  {
   "cell_type": "code",
   "execution_count": 2,
   "metadata": {},
   "outputs": [],
   "source": [
    "import sys\n",
    "sys.path.insert(0, \"../scripts\")\n",
    "\n",
    "from SZFW_cox import *\n",
    "from DZFW_cox import *\n",
    "from IZFW_cox import *"
   ]
  },
  {
   "cell_type": "markdown",
   "metadata": {},
   "source": [
    "## Load data"
   ]
  },
  {
   "cell_type": "code",
   "execution_count": 3,
   "metadata": {},
   "outputs": [
    {
     "data": {
      "text/plain": [
       "0    375\n",
       "1    162\n",
       "Name: death_event, dtype: int64"
      ]
     },
     "execution_count": 3,
     "metadata": {},
     "output_type": "execute_result"
    }
   ],
   "source": [
    "clinical = pd.read_table('../Data/SurvivalTimes.txt', index_col=0, sep=';')\n",
    "clinical = clinical.set_index(clinical[\"IDs\"], drop=True).iloc[:,:-1]\n",
    "clinical[\"death_event\"].value_counts()"
   ]
  },
  {
   "cell_type": "code",
   "execution_count": 4,
   "metadata": {},
   "outputs": [],
   "source": [
    "data = pd.read_table(\"../Data/mydata.txt\", sep = \";\")\n",
    "data = data.T"
   ]
  },
  {
   "cell_type": "code",
   "execution_count": 5,
   "metadata": {},
   "outputs": [
    {
     "data": {
      "text/html": [
       "<div>\n",
       "<style scoped>\n",
       "    .dataframe tbody tr th:only-of-type {\n",
       "        vertical-align: middle;\n",
       "    }\n",
       "\n",
       "    .dataframe tbody tr th {\n",
       "        vertical-align: top;\n",
       "    }\n",
       "\n",
       "    .dataframe thead th {\n",
       "        text-align: right;\n",
       "    }\n",
       "</style>\n",
       "<table border=\"1\" class=\"dataframe\">\n",
       "  <thead>\n",
       "    <tr style=\"text-align: right;\">\n",
       "      <th></th>\n",
       "      <th>?|10431</th>\n",
       "      <th>?|553137</th>\n",
       "      <th>?|57714</th>\n",
       "      <th>?|653553</th>\n",
       "      <th>?|8225</th>\n",
       "      <th>A2M|2</th>\n",
       "      <th>A4GALT|53947</th>\n",
       "      <th>AAAS|8086</th>\n",
       "      <th>AACS|65985</th>\n",
       "      <th>AAGAB|79719</th>\n",
       "      <th>...</th>\n",
       "      <th>ZSWIM7|125150</th>\n",
       "      <th>ZW10|9183</th>\n",
       "      <th>ZXDB|158586</th>\n",
       "      <th>ZXDC|79364</th>\n",
       "      <th>ZYG11B|79699</th>\n",
       "      <th>ZYX|7791</th>\n",
       "      <th>ZZEF1|23140</th>\n",
       "      <th>ZZZ3|26009</th>\n",
       "      <th>new_death</th>\n",
       "      <th>death_event</th>\n",
       "    </tr>\n",
       "  </thead>\n",
       "  <tbody>\n",
       "    <tr>\n",
       "      <td>TCGA-A3-A8OX</td>\n",
       "      <td>864.8329</td>\n",
       "      <td>123.6901</td>\n",
       "      <td>762.7553</td>\n",
       "      <td>259.3501</td>\n",
       "      <td>527.3452</td>\n",
       "      <td>32553.2802</td>\n",
       "      <td>972.8954</td>\n",
       "      <td>525.3502</td>\n",
       "      <td>734.8253</td>\n",
       "      <td>741.1428</td>\n",
       "      <td>...</td>\n",
       "      <td>470.8900</td>\n",
       "      <td>328.5101</td>\n",
       "      <td>289.2751</td>\n",
       "      <td>967.5754</td>\n",
       "      <td>990.5179</td>\n",
       "      <td>4045.8617</td>\n",
       "      <td>1415.1206</td>\n",
       "      <td>592.1828</td>\n",
       "      <td>0</td>\n",
       "      <td>0</td>\n",
       "    </tr>\n",
       "    <tr>\n",
       "      <td>TCGA-A3-A8OU</td>\n",
       "      <td>642.0154</td>\n",
       "      <td>431.5319</td>\n",
       "      <td>624.5429</td>\n",
       "      <td>399.0248</td>\n",
       "      <td>788.7038</td>\n",
       "      <td>31333.4945</td>\n",
       "      <td>1786.6721</td>\n",
       "      <td>702.1536</td>\n",
       "      <td>526.2089</td>\n",
       "      <td>503.0475</td>\n",
       "      <td>...</td>\n",
       "      <td>419.2483</td>\n",
       "      <td>250.7111</td>\n",
       "      <td>383.1776</td>\n",
       "      <td>1112.9622</td>\n",
       "      <td>899.2280</td>\n",
       "      <td>4225.9244</td>\n",
       "      <td>1418.1227</td>\n",
       "      <td>449.8171</td>\n",
       "      <td>0</td>\n",
       "      <td>0</td>\n",
       "    </tr>\n",
       "    <tr>\n",
       "      <td>TCGA-BP-4337</td>\n",
       "      <td>934.0463</td>\n",
       "      <td>772.7273</td>\n",
       "      <td>466.1319</td>\n",
       "      <td>596.2567</td>\n",
       "      <td>699.6435</td>\n",
       "      <td>32191.5642</td>\n",
       "      <td>2510.2496</td>\n",
       "      <td>938.0570</td>\n",
       "      <td>881.4617</td>\n",
       "      <td>651.9608</td>\n",
       "      <td>...</td>\n",
       "      <td>267.3975</td>\n",
       "      <td>228.6096</td>\n",
       "      <td>189.8396</td>\n",
       "      <td>1154.1889</td>\n",
       "      <td>616.7558</td>\n",
       "      <td>5067.7362</td>\n",
       "      <td>1319.0731</td>\n",
       "      <td>471.0339</td>\n",
       "      <td>2</td>\n",
       "      <td>1</td>\n",
       "    </tr>\n",
       "    <tr>\n",
       "      <td>TCGA-A3-A8CQ</td>\n",
       "      <td>477.9031</td>\n",
       "      <td>283.6534</td>\n",
       "      <td>722.9503</td>\n",
       "      <td>337.7019</td>\n",
       "      <td>779.4372</td>\n",
       "      <td>31045.7665</td>\n",
       "      <td>1935.5887</td>\n",
       "      <td>615.6660</td>\n",
       "      <td>712.7908</td>\n",
       "      <td>408.4121</td>\n",
       "      <td>...</td>\n",
       "      <td>250.2895</td>\n",
       "      <td>289.7491</td>\n",
       "      <td>376.3080</td>\n",
       "      <td>1091.9435</td>\n",
       "      <td>967.9976</td>\n",
       "      <td>3791.5270</td>\n",
       "      <td>1752.7177</td>\n",
       "      <td>611.6022</td>\n",
       "      <td>3</td>\n",
       "      <td>0</td>\n",
       "    </tr>\n",
       "    <tr>\n",
       "      <td>TCGA-A3-A6NN</td>\n",
       "      <td>310.8729</td>\n",
       "      <td>556.6616</td>\n",
       "      <td>915.3905</td>\n",
       "      <td>234.3032</td>\n",
       "      <td>463.6294</td>\n",
       "      <td>40603.1432</td>\n",
       "      <td>2385.1455</td>\n",
       "      <td>638.2083</td>\n",
       "      <td>343.4150</td>\n",
       "      <td>494.6401</td>\n",
       "      <td>...</td>\n",
       "      <td>282.2358</td>\n",
       "      <td>351.8377</td>\n",
       "      <td>465.1608</td>\n",
       "      <td>907.7335</td>\n",
       "      <td>1130.1685</td>\n",
       "      <td>2765.3139</td>\n",
       "      <td>2091.5008</td>\n",
       "      <td>774.1194</td>\n",
       "      <td>3</td>\n",
       "      <td>0</td>\n",
       "    </tr>\n",
       "  </tbody>\n",
       "</table>\n",
       "<p>5 rows × 9377 columns</p>\n",
       "</div>"
      ],
      "text/plain": [
       "               ?|10431  ?|553137   ?|57714  ?|653553    ?|8225       A2M|2  \\\n",
       "TCGA-A3-A8OX  864.8329  123.6901  762.7553  259.3501  527.3452  32553.2802   \n",
       "TCGA-A3-A8OU  642.0154  431.5319  624.5429  399.0248  788.7038  31333.4945   \n",
       "TCGA-BP-4337  934.0463  772.7273  466.1319  596.2567  699.6435  32191.5642   \n",
       "TCGA-A3-A8CQ  477.9031  283.6534  722.9503  337.7019  779.4372  31045.7665   \n",
       "TCGA-A3-A6NN  310.8729  556.6616  915.3905  234.3032  463.6294  40603.1432   \n",
       "\n",
       "              A4GALT|53947  AAAS|8086  AACS|65985  AAGAB|79719  ...  \\\n",
       "TCGA-A3-A8OX      972.8954   525.3502    734.8253     741.1428  ...   \n",
       "TCGA-A3-A8OU     1786.6721   702.1536    526.2089     503.0475  ...   \n",
       "TCGA-BP-4337     2510.2496   938.0570    881.4617     651.9608  ...   \n",
       "TCGA-A3-A8CQ     1935.5887   615.6660    712.7908     408.4121  ...   \n",
       "TCGA-A3-A6NN     2385.1455   638.2083    343.4150     494.6401  ...   \n",
       "\n",
       "              ZSWIM7|125150  ZW10|9183  ZXDB|158586  ZXDC|79364  ZYG11B|79699  \\\n",
       "TCGA-A3-A8OX       470.8900   328.5101     289.2751    967.5754      990.5179   \n",
       "TCGA-A3-A8OU       419.2483   250.7111     383.1776   1112.9622      899.2280   \n",
       "TCGA-BP-4337       267.3975   228.6096     189.8396   1154.1889      616.7558   \n",
       "TCGA-A3-A8CQ       250.2895   289.7491     376.3080   1091.9435      967.9976   \n",
       "TCGA-A3-A6NN       282.2358   351.8377     465.1608    907.7335     1130.1685   \n",
       "\n",
       "               ZYX|7791  ZZEF1|23140  ZZZ3|26009  new_death  death_event  \n",
       "TCGA-A3-A8OX  4045.8617    1415.1206    592.1828          0            0  \n",
       "TCGA-A3-A8OU  4225.9244    1418.1227    449.8171          0            0  \n",
       "TCGA-BP-4337  5067.7362    1319.0731    471.0339          2            1  \n",
       "TCGA-A3-A8CQ  3791.5270    1752.7177    611.6022          3            0  \n",
       "TCGA-A3-A6NN  2765.3139    2091.5008    774.1194          3            0  \n",
       "\n",
       "[5 rows x 9377 columns]"
      ]
     },
     "execution_count": 5,
     "metadata": {},
     "output_type": "execute_result"
    }
   ],
   "source": [
    "df = data.merge(clinical, left_index= True, right_index = True)\n",
    "df = df.sort_values(by = \"new_death\")\n",
    "df.head()"
   ]
  },
  {
   "cell_type": "code",
   "execution_count": 6,
   "metadata": {},
   "outputs": [
    {
     "name": "stdout",
     "output_type": "stream",
     "text": [
      "X shape: (533, 9375)\n",
      "y shape: (533,)\n",
      "time shape: (533,)\n"
     ]
    }
   ],
   "source": [
    "X, y, time = df.iloc[:,:-2], df.iloc[:,-1].values, df.iloc[:,-2].values\n",
    "X = np.array(X.apply(lambda x: (x - np.mean(x))/np.std(x), axis = 0))\n",
    "print(f\"X shape: {X.shape}\\ny shape: {y.shape}\\ntime shape: {time.shape}\")"
   ]
  },
  {
   "cell_type": "code",
   "execution_count": 7,
   "metadata": {},
   "outputs": [],
   "source": [
    "n, d = X.shape"
   ]
  },
  {
   "cell_type": "code",
   "execution_count": 8,
   "metadata": {},
   "outputs": [],
   "source": [
    "# initialize parameters for the algorithms\n",
    "# stating point \n",
    "np.random.seed(7)\n",
    "w0 = np.random.rand(d)\n",
    "w0 = w0/np.sum(w0) * np.random.rand(1) *10\n",
    "\n",
    "# Lipschitz constant \n",
    "L = 0.1"
   ]
  },
  {
   "cell_type": "code",
   "execution_count": 9,
   "metadata": {},
   "outputs": [
    {
     "data": {
      "text/plain": [
       "8.899985191618605"
      ]
     },
     "execution_count": 9,
     "metadata": {},
     "output_type": "execute_result"
    }
   ],
   "source": [
    "np.linalg.norm(w0, 1)"
   ]
  },
  {
   "cell_type": "code",
   "execution_count": 10,
   "metadata": {},
   "outputs": [],
   "source": [
    "#np.min([np.min(f_i), np.min(f_stoch200), np.min(f_d)])\n",
    "#np.argmin([np.min(f_i), np.min(f_stoch200), np.min(f_d)])"
   ]
  },
  {
   "cell_type": "code",
   "execution_count": 11,
   "metadata": {},
   "outputs": [],
   "source": [
    "f_star = 1.426645363070986"
   ]
  },
  {
   "cell_type": "code",
   "execution_count": 12,
   "metadata": {},
   "outputs": [],
   "source": [
    "@njit\n",
    "def F(w):\n",
    "    output = 0\n",
    "    for i in range(X.shape[0]):\n",
    "        if y[i] == 1:\n",
    "            sum_jR = np.sum(np.exp((X @ w)[i:]))\n",
    "            output += y[i]*(-X[i,:] @ w + np.log(sum_jR))\n",
    "    return 1/X.shape[0] * output"
   ]
  },
  {
   "cell_type": "markdown",
   "metadata": {},
   "source": [
    "## Deterministic Gradient Free Frank Wolfe"
   ]
  },
  {
   "cell_type": "code",
   "execution_count": 13,
   "metadata": {},
   "outputs": [
    {
     "name": "stdout",
     "output_type": "stream",
     "text": [
      "CPU times: user 8 µs, sys: 0 ns, total: 8 µs\n",
      "Wall time: 15.7 µs\n"
     ]
    }
   ],
   "source": [
    "%%time\n",
    "#fpred, f, w, mean, t, loss, f_values = detZFW(F, L, d, w0, T=100)\n",
    "#print(F(w0), F(w))\n",
    "#print(f'OUTPUT:\\n\\nF(w_pred) = {fpred}\\n\\nF(w) = {f}\\n\\nw = {w}\\n\\naverage w = {mean}\\n\\nT = {t}')"
   ]
  },
  {
   "cell_type": "code",
   "execution_count": 14,
   "metadata": {},
   "outputs": [
    {
     "data": {
      "text/plain": [
       "'\\nL = 50\\nOUTPUT:\\n\\nF(w_pred) = 1.426645363070986\\n\\nF(w) = 1.427460335672531\\n\\nw = [2.82792244e-08 2.89031489e-07 1.62470855e-07 ... 9.93704486e-08\\n 4.01305222e-09 1.90532377e-07]\\n\\naverage w = [1.42810083e-06 1.45960902e-05 8.20477818e-06 ... 5.01820765e-06\\n 2.02659137e-07 9.62188506e-06]\\n\\nT = 100\\n2.1905202447317844 1.427460335672531\\n'"
      ]
     },
     "execution_count": 14,
     "metadata": {},
     "output_type": "execute_result"
    }
   ],
   "source": [
    "'''\n",
    "L = 50\n",
    "OUTPUT:\n",
    "\n",
    "F(w_pred) = 1.426645363070986\n",
    "\n",
    "F(w) = 1.427460335672531\n",
    "\n",
    "w = [2.82792244e-08 2.89031489e-07 1.62470855e-07 ... 9.93704486e-08\n",
    " 4.01305222e-09 1.90532377e-07]\n",
    "\n",
    "average w = [1.42810083e-06 1.45960902e-05 8.20477818e-06 ... 5.01820765e-06\n",
    " 2.02659137e-07 9.62188506e-06]\n",
    "\n",
    "T = 100\n",
    "2.1905202447317844 1.427460335672531\n",
    "'''"
   ]
  },
  {
   "cell_type": "code",
   "execution_count": 15,
   "metadata": {},
   "outputs": [
    {
     "data": {
      "image/png": "[encoded data removed]",
      "text/plain": [
       "<Figure size 432x288 with 1 Axes>"
      ]
     },
     "metadata": {
      "needs_background": "light"
     },
     "output_type": "display_data"
    }
   ],
   "source": [
    "f_d = np.load('../Data/results/function_DZFW_cox_50.npy')\n",
    "plt.plot(f_d - f_star)\n",
    "plt.yscale(\"log\")\n",
    "plt.title(\"dZFW L = 50\")\n",
    "plt.xlabel(\"# iterations\")\n",
    "plt.ylabel(\"|f-f*|\")\n",
    "plt.grid()"
   ]
  },
  {
   "cell_type": "markdown",
   "metadata": {},
   "source": [
    "## Stochastic Gradient Free Frank Wolfe"
   ]
  },
  {
   "cell_type": "code",
   "execution_count": 16,
   "metadata": {
    "scrolled": true
   },
   "outputs": [
    {
     "name": "stdout",
     "output_type": "stream",
     "text": [
      "CPU times: user 4 µs, sys: 0 ns, total: 4 µs\n",
      "Wall time: 13.4 µs\n"
     ]
    }
   ],
   "source": [
    "%%time\n",
    "#fpred, f, w, mean, t, loss = stochasticZFW(F, d, w0, method = \"IRDSA\", r=10, T=20, eps=1e-5)\n",
    "\n",
    "#print(F(w0), F(w))\n",
    "#print(f'OUTPUT:\\n\\nF(w_pred) = {fpred}\\n\\nF(w) = {f}\\n\\nw = {w}\\n\\naverage w = {mean}\\n\\nT = {t}')"
   ]
  },
  {
   "cell_type": "code",
   "execution_count": 17,
   "metadata": {},
   "outputs": [
    {
     "data": {
      "image/png": "[encoded data removed]",
      "text/plain": [
       "<Figure size 432x288 with 1 Axes>"
      ]
     },
     "metadata": {
      "needs_background": "light"
     },
     "output_type": "display_data"
    }
   ],
   "source": [
    "f_stoch200 = np.load('../Data/results/function_SZFW_IRDSA_cox_200.npy')\n",
    "plt.plot(f_stoch200 - f_star)\n",
    "plt.yscale(\"log\")\n",
    "plt.title(\"sZFW with IRDSA (m=938)\")\n",
    "plt.xlabel(\"# iterations\")\n",
    "plt.ylabel(\"|f-f*|\")\n",
    "plt.grid()"
   ]
  },
  {
   "cell_type": "markdown",
   "metadata": {},
   "source": [
    "## Zeroth order stochastic accelerated gradient method with Inexact updates"
   ]
  },
  {
   "cell_type": "code",
   "execution_count": 18,
   "metadata": {},
   "outputs": [
    {
     "name": "stdout",
     "output_type": "stream",
     "text": [
      "CPU times: user 51 µs, sys: 2 µs, total: 53 µs\n",
      "Wall time: 65.8 µs\n"
     ]
    },
    {
     "data": {
      "text/plain": [
       "'\\nOUTPUT:\\n\\nF(w_pred) = 1.621374158024038\\n\\nF(w) = 1.6251153827213625\\n\\nw = [6.69117374e-09 9.72977140e-09 7.45566032e-11 ... 7.99886892e-09\\n 1.09944720e-08 2.63635676e-09]\\n\\naverage w = [3.37904274e-07 4.91353456e-07 3.76510846e-09 ... 4.03942880e-07\\n 5.55220837e-07 1.33136016e-07]\\n\\nT = 100\\n1.6905172271257587 1.6251153827213625\\n'"
      ]
     },
     "execution_count": 18,
     "metadata": {},
     "output_type": "execute_result"
    }
   ],
   "source": [
    "%%time\n",
    "\n",
    "# setting parameters\n",
    "B=1   \n",
    "D=10000\n",
    "\n",
    "#fpred, f, w, mean, t, loss, f_value = IZFW(F, d, w0, L, B = 1, r = 10, T = 100, eps = 1e-5)\n",
    "#print(F(w0), F(w))\n",
    "#print(f'OUTPUT:\\n\\nF(w_pred) = {fpred}\\n\\nF(w) = {f}\\n\\nw = {w}\\n\\naverage w = {mean}\\n\\nT = {t}')\n",
    "\n",
    "\"\"\"\n",
    "OUTPUT:\n",
    "\n",
    "F(w_pred) = 1.621374158024038\n",
    "\n",
    "F(w) = 1.6251153827213625\n",
    "\n",
    "w = [6.69117374e-09 9.72977140e-09 7.45566032e-11 ... 7.99886892e-09\n",
    " 1.09944720e-08 2.63635676e-09]\n",
    "\n",
    "average w = [3.37904274e-07 4.91353456e-07 3.76510846e-09 ... 4.03942880e-07\n",
    " 5.55220837e-07 1.33136016e-07]\n",
    "\n",
    "T = 100\n",
    "1.6905172271257587 1.6251153827213625\n",
    "\"\"\""
   ]
  },
  {
   "cell_type": "code",
   "execution_count": 19,
   "metadata": {},
   "outputs": [
    {
     "data": {
      "image/png": "[encoded data removed]",
      "text/plain": [
       "<Figure size 432x288 with 1 Axes>"
      ]
     },
     "metadata": {
      "needs_background": "light"
     },
     "output_type": "display_data"
    }
   ],
   "source": [
    "f_i = np.load('../Data/results/function_IZFW_cox.npy')\n",
    "plt.plot(f_i - f_star)\n",
    "plt.yscale(\"log\")\n",
    "plt.title(\"IZFW\")\n",
    "plt.xlabel(\"# iterations\")\n",
    "plt.ylabel(\"|f-f*|\")\n",
    "plt.grid()"
   ]
  },
  {
   "cell_type": "markdown",
   "metadata": {},
   "source": [
    "### Time estimation for IZFW (while not counted)"
   ]
  },
  {
   "cell_type": "code",
   "execution_count": 20,
   "metadata": {},
   "outputs": [
    {
     "name": "stdout",
     "output_type": "stream",
     "text": [
      "CPU times: user 3.3 s, sys: 59.3 ms, total: 3.36 s\n",
      "Wall time: 2.64 s\n"
     ]
    },
    {
     "data": {
      "text/plain": [
       "2.1905202447317853"
      ]
     },
     "execution_count": 20,
     "metadata": {},
     "output_type": "execute_result"
    }
   ],
   "source": [
    "%%time\n",
    "F(w0)"
   ]
  },
  {
   "cell_type": "code",
   "execution_count": 21,
   "metadata": {},
   "outputs": [
    {
     "data": {
      "text/plain": [
       "322040.52"
      ]
     },
     "execution_count": 21,
     "metadata": {},
     "output_type": "execute_result"
    }
   ],
   "source": [
    "m = lambda t: t * (t+1) / D * (d+3)\n",
    "np.sum([m(t) for t in range(1,101)])"
   ]
  },
  {
   "cell_type": "code",
   "execution_count": 22,
   "metadata": {},
   "outputs": [],
   "source": [
    "secs = 661 * 322040.52 / 1000\n",
    "hours = secs / 60**2"
   ]
  },
  {
   "cell_type": "code",
   "execution_count": 23,
   "metadata": {},
   "outputs": [
    {
     "data": {
      "text/plain": [
       "0.4205934506478233"
      ]
     },
     "execution_count": 23,
     "metadata": {},
     "output_type": "execute_result"
    }
   ],
   "source": [
    "(3.50 - hours/24)/(hours/24)"
   ]
  },
  {
   "cell_type": "markdown",
   "metadata": {},
   "source": [
    "## Results comparison"
   ]
  },
  {
   "cell_type": "code",
   "execution_count": 24,
   "metadata": {},
   "outputs": [
    {
     "data": {
      "image/png": "[encoded data removed]",
      "text/plain": [
       "<Figure size 432x288 with 1 Axes>"
      ]
     },
     "metadata": {
      "needs_background": "light"
     },
     "output_type": "display_data"
    }
   ],
   "source": [
    "plt.plot((f_d - f_star)[:np.argmin(f_d)])\n",
    "plt.plot(f_i - f_star)\n",
    "plt.plot(f_stoch200 - f_star)\n",
    "plt.yscale(\"log\")\n",
    "plt.title(\"Comparison\")\n",
    "plt.xlabel(\"# iterations\")\n",
    "plt.ylabel(\"|f-f*|\")\n",
    "plt.grid()"
   ]
  },
  {
   "cell_type": "code",
   "execution_count": 25,
   "metadata": {},
   "outputs": [
    {
     "data": {
      "image/png": "[encoded data removed]",
      "text/plain": [
       "<Figure size 432x288 with 1 Axes>"
      ]
     },
     "metadata": {
      "needs_background": "light"
     },
     "output_type": "display_data"
    }
   ],
   "source": [
    "m = lambda t: t * (t+1) / D * (d+3)\n",
    "\n",
    "plt.plot(range(1, 100*d, d)[:np.argmin(f_d)], (f_d - f_star)[:np.argmin(f_d)])\n",
    "plt.plot([m(t) for t in range(101)], f_i - f_star)\n",
    "plt.plot(range(0, 200*938+1, 938),f_stoch200 - f_star)\n",
    "plt.yscale(\"log\")\n",
    "plt.title(\"Comparison\")\n",
    "plt.xlabel(\"# oracle calls\")\n",
    "plt.ylabel(\"|f-f*|\")\n",
    "plt.xlim((0,20000))\n",
    "plt.grid()"
   ]
  },
  {
   "cell_type": "code",
   "execution_count": null,
   "metadata": {},
   "outputs": [],
   "source": []
  }
 ],
 "metadata": {
  "kernelspec": {
   "display_name": "Python 3",
   "language": "python",
   "name": "python3"
  },
  "language_info": {
   "codemirror_mode": {
    "name": "ipython",
    "version": 3
   },
   "file_extension": ".py",
   "mimetype": "text/x-python",
   "name": "python",
   "nbconvert_exporter": "python",
   "pygments_lexer": "ipython3",
   "version": "3.7.4"
  }
 },
 "nbformat": 4,
 "nbformat_minor": 4
}
