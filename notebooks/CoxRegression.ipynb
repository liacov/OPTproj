{
 "cells": [
  {
   "cell_type": "code",
   "execution_count": 1,
   "metadata": {},
   "outputs": [],
   "source": [
    "import numpy as np\n",
    "import pandas as pd\n",
    "#import multiprocessing as mp\n",
    "import matplotlib.pyplot as plt\n",
    "\n",
    "from numba import njit\n",
    "#from itertools import product\n",
    "from scipy.sparse.linalg import norm"
   ]
  },
  {
   "cell_type": "code",
   "execution_count": 2,
   "metadata": {},
   "outputs": [],
   "source": [
    "def e(i, d):\n",
    "    ei = np.zeros(d)\n",
    "    ei[i] = 1\n",
    "    return ei\n",
    "\n",
    "\n",
    "\n",
    "def KWSA(F, w, m, c, d):\n",
    "    \"\"\" \n",
    "    Kiefer-Wolfowitz stochastic approximation\n",
    "    for gradient estimation \n",
    "    \n",
    "    INPUT:\n",
    "    - F: objective function\n",
    "    - w: current weight\n",
    "    - m: sample size (null in this case)\n",
    "    - d: dimension\n",
    "    - c: costant\n",
    "    \n",
    "    \"\"\"\n",
    "\n",
    "    F_wc = np.array([F(w + c * e(i, d)) for i in range(d)])\n",
    "    return (F_wc - F(w)) / c\n",
    "\n",
    "\n",
    "#def IRDSA_out(F, w, m, c, seed):\n",
    "#    \"\"\" \n",
    "#    Improvised Random Direction stochastic approximation\n",
    "#    for gradient estimation - output function\n",
    "#    \n",
    "#    INPUT:\n",
    "#    - F: objective function\n",
    "#    - w: current weight\n",
    "#    - m: sample dimension\n",
    "#    - c: costant\n",
    "#    - z: random generated vectors\n",
    "#    \n",
    "#    \"\"\"\n",
    "#    np.random.seed(seed)\n",
    "#    z = np.random.normal(0, 1, d)\n",
    "#    F_w = F(w)\n",
    "#    return ((F(w + c * z) - F_w) / c * z)\n",
    "#\n",
    "#    \n",
    "#\n",
    "#def IRDSA(F, w, m, c, d):\n",
    "#    \"\"\" \n",
    "#    Improvised Random Direction stochastic approximation\n",
    "#    for gradient estimation \n",
    "#    \n",
    "#    INPUT:\n",
    "#    - F: objective function\n",
    "#    - w: current weight\n",
    "#    - m: sample dimension\n",
    "#    - d: features dimension\n",
    "#    - c: costant\n",
    "#    \n",
    "#    \"\"\"\n",
    "#    seeds = np.random.randint(low=1, high=2000, size=m)\n",
    "#    p = mp.Pool(mp.cpu_count())\n",
    "#    out = p.starmap(IRDSA_out, product([F],[w],[m],[c],seeds))\n",
    "#    #print(out)\n",
    "#    p.close()\n",
    "#    return np.sum(out)/m\n",
    "\n",
    "def IRDSA(F, w, m, c, d):\n",
    "    \"\"\" \n",
    "    Improvised Random Direction stochastic approximation\n",
    "    for gradient estimation \n",
    "    \n",
    "    INPUT:\n",
    "    - F: objective function\n",
    "    - w: current weight\n",
    "    - m: sample dimension\n",
    "    - d: features dimension\n",
    "    - c: costant\n",
    "    \n",
    "    \"\"\"\n",
    "    z = np.random.normal(0, 1, (d, m))\n",
    "    F_w = F(w)\n",
    "    return np.mean([(F(w + c * z[:,i]) - F_w) / c * z[:,i] for i in range(m)], axis = 0)\n",
    "\n",
    "def detZFW(F, L, d, w0, r=1, T=100, eps=1e-5):\n",
    "    \"\"\"\n",
    "    INPUT\n",
    "    - F: loss function\n",
    "    - L: Lip constant\n",
    "    - d: dimension\n",
    "    - w0: starting point\n",
    "    - r: radius of the ball\n",
    "    - T: max iteration\n",
    "    - eps: tolerance\n",
    "    \"\"\"\n",
    "\n",
    "    gamma = lambda t: 2/(t+2)\n",
    "    c = lambda t: L*gamma(t)/d\n",
    "    w = w0\n",
    "    partial = 0\n",
    "    for t in range(1, T+1):\n",
    "        # comupute the gradient approx\n",
    "        gt = KWSA(F, w, None, c(t), d)\n",
    "        # compute the linear problem solution on the L1 Ball of radius r\n",
    "        i_k = np.argmax(np.abs(gt))\n",
    "        ei = e(i_k, d) * r\n",
    "        v = np.sign(-gt[i_k]) * ei\n",
    "        # compute step \n",
    "        w_pred = w\n",
    "        w = (1 - gamma(t)) * w + gamma(t) * v\n",
    "        partial += w\n",
    "        loss_eval = F(w_pred) - F(w)\n",
    "        print(f\"Loss evaluation at time {t}:\\t{loss_eval:.4f}\\n\")\n",
    "        if loss_eval < eps: break # check stopping condition\n",
    "    return F(w_pred), F(w), w, partial/T, t"
   ]
  },
  {
   "cell_type": "code",
   "execution_count": 3,
   "metadata": {},
   "outputs": [],
   "source": [
    "def stochasticZFW(F, d,  w0, method = \"IRDSA\", r=1, T=100, eps=1e-5):\n",
    "    \"\"\"\n",
    "    INPUT\n",
    "    - F: loss function\n",
    "    - d: dimension\n",
    "    - w0: starting point\n",
    "    - method: zeroth order oracle\n",
    "    - r: radius of the ball\n",
    "    - T: max iteration\n",
    "    - eps: tolerance\n",
    "    \"\"\"\n",
    "    \n",
    "    Parameters_dict = {\"KWSA\": {\"m\": None, \n",
    "                                \"c\": lambda t: 2 / (np.sqrt(d) * np.power(t+8, 1/3)),\n",
    "                                \"p\": lambda t: 4 / np.power(t+8, 2/3),\n",
    "                                \"oracle\": KWSA},\n",
    "                       \n",
    "                   \n",
    "                       \"RDSA\": {\"m\": 1, \n",
    "                                \"c\": lambda t: 2 / (np.power(d, 3/2) * np.power(t+8, 1/3)),\n",
    "                                \"p\": lambda t: 4 / (np.power(d, 1/3) * np.power(t+8, 2/3)),\n",
    "                                \"oracle\": IRDSA},\n",
    "                   \n",
    "                       \"IRDSA\": {\"m\": 20, \n",
    "                                \"c\": lambda t: 2 * np.sqrt(6) / (np.power(d, 3/2) * np.power(t+8, 1/3)),\n",
    "                                \"p\": lambda t: 4 / (np.power(1+d/6, 1/3) * np.power(t+8, 2/3)),\n",
    "                                \"oracle\": IRDSA}\n",
    "                  \n",
    "                        }\n",
    "    \n",
    "    return sZFW(F, d, w0, Parameters_dict[method], r, T, eps)\n",
    "    \n",
    "  \n",
    "\n",
    "    \n",
    "def sZFW(F, d, w0, params, r, T, eps):\n",
    "    \"\"\"\n",
    "    INPUT\n",
    "    - F: loss function\n",
    "    - d: dimension\n",
    "    - w0: starting point\n",
    "    - params: dict of parameters for the selected method\n",
    "    - r: radius of the ball\n",
    "    - T: max iteration\n",
    "    - eps: tolerance\n",
    "    \"\"\"\n",
    "     \n",
    "    loss = []\n",
    "    gamma = lambda t: 2/(t+8)\n",
    "    w = w0\n",
    "    dt = np.zeros(d)\n",
    "    partial = 0\n",
    "    for t in range(1, T+1):\n",
    "        # comupute the gradient approx\n",
    "        gt = params[\"oracle\"](F, w, params[\"m\"], params[\"c\"](t), d)\n",
    "        dt = (1 - params[\"p\"](t)) * dt + params[\"p\"](t) * gt\n",
    "        # compute the linear problem solution on the L1 Ball of radius r\n",
    "        ei = e(np.argmax(np.abs(dt)), d) * r\n",
    "        v = np.sign(-dt) * ei\n",
    "        # compute step \n",
    "        w_pred = w\n",
    "        w = (1 - gamma(t)) * w + gamma(t) * v\n",
    "        # save partial results\n",
    "        partial += w\n",
    "        loss_eval = np.abs(F(w_pred) - F(w))\n",
    "        loss.append(loss_eval)\n",
    "        # print info\n",
    "        print(f\"Loss evaluation at time {t}:\\t{loss_eval:.4f}\\n\")\n",
    "        if loss_eval < eps: break # check stopping condition\n",
    "    return F(w_pred), F(w), w, partial/T, t, loss\n"
   ]
  },
  {
   "cell_type": "code",
   "execution_count": 4,
   "metadata": {},
   "outputs": [],
   "source": [
    "def InexactUpdate(g, d, v, r, gamma, mu):\n",
    "    \"\"\"\n",
    "    INPUT\n",
    "    - g: gradient approximation \n",
    "    - d: dimension\n",
    "    - v: starting point\n",
    "    - r: radius\n",
    "    - gamma: decreasing coefficient\n",
    "    - mu: threshold\n",
    "    \"\"\"\n",
    "    \n",
    "    haty = v\n",
    "    t = 1\n",
    "    while True:\n",
    "        # ARGMIN PROBLEM\n",
    "        ht1 = g + gamma*(haty - v)\n",
    "        i_k = np.argmax(np.abs(ht1))\n",
    "        ei = e(i_k, d) * r\n",
    "        yt = np.sign(-ht1[i_k]) * ei\n",
    "        if np.dot(ht1, yt - haty) >= - mu:\n",
    "            break\n",
    "        else:\n",
    "            haty = (t-1)/(t+1) * haty + 2/(t+1)*yt\n",
    "            t +=1\n",
    "    return haty\n",
    "    \n",
    "\n",
    "def IZFW(F, d, w0, L, B = 1, r = 1, T = 100, eps = 1e-6):\n",
    "    \"\"\"\n",
    "    INPUT\n",
    "    - F: loss function\n",
    "    - d: dimension\n",
    "    - w0: starting point\n",
    "    - L: lipschitz\n",
    "    - B: 1\n",
    "    - r: radius of the ball\n",
    "    - T: max iteration\n",
    "    - eps: tolerance\n",
    "    \"\"\"\n",
    "    \n",
    "    alpha = lambda t: 2/(t+2)\n",
    "    gamma = lambda t: 4*L/t\n",
    "    mu = lambda t: L*2*r/(t*T)\n",
    "    m = lambda t: 10000 #t * (t+1) / 2*r * np.max([(d+5)*B*T, d+3])\n",
    "    c = 1 / (np.sqrt(2*T)) * np.max([1/(d+3), np.sqrt(2*r/(d*(T+1)))]) # smoothing parameter now fixed\n",
    "    \n",
    "    loss = []\n",
    "    v, w = w0, w0\n",
    "    partial = 0\n",
    "    \n",
    "    for t in range(1, T+1):\n",
    "        dt = (1-alpha(t)) * w + alpha(t) * v\n",
    "        g = IRDSA(F, dt, int(np.ceil(m(t))), c, d)\n",
    "        v = InexactUpdate(g, d, v, r, gamma(t), mu(t)) #ICG\n",
    "        w_pred = w\n",
    "        w = (1 - alpha(t)) * w + alpha(t) * v\n",
    "        partial += w\n",
    "        loss_eval = np.abs(F(w_pred) - F(w))\n",
    "        loss.append(loss_eval)\n",
    "        print(f\"Loss evaluation at time {t}:\\t{loss_eval:.4f}\\n\")\n",
    "        if loss_eval < eps: break # check stopping condition\n",
    "    return F(w_pred), F(w), w, partial/T, t, loss"
   ]
  },
  {
   "cell_type": "code",
   "execution_count": 5,
   "metadata": {},
   "outputs": [
    {
     "data": {
      "text/plain": [
       "0    375\n",
       "1    162\n",
       "Name: death_event, dtype: int64"
      ]
     },
     "execution_count": 5,
     "metadata": {},
     "output_type": "execute_result"
    }
   ],
   "source": [
    "clinical = pd.read_table('../Data/SurvivalTimes.txt', index_col=0, sep=';')\n",
    "clinical = clinical.set_index(clinical[\"IDs\"], drop=True).iloc[:,:-1]\n",
    "clinical[\"death_event\"].value_counts()"
   ]
  },
  {
   "cell_type": "code",
   "execution_count": 6,
   "metadata": {},
   "outputs": [],
   "source": [
    "data = pd.read_table(\"../Data/mydata.txt\", sep = \";\")\n",
    "data = data.T"
   ]
  },
  {
   "cell_type": "code",
   "execution_count": 7,
   "metadata": {},
   "outputs": [
    {
     "data": {
      "text/html": [
       "<div>\n",
       "<style scoped>\n",
       "    .dataframe tbody tr th:only-of-type {\n",
       "        vertical-align: middle;\n",
       "    }\n",
       "\n",
       "    .dataframe tbody tr th {\n",
       "        vertical-align: top;\n",
       "    }\n",
       "\n",
       "    .dataframe thead th {\n",
       "        text-align: right;\n",
       "    }\n",
       "</style>\n",
       "<table border=\"1\" class=\"dataframe\">\n",
       "  <thead>\n",
       "    <tr style=\"text-align: right;\">\n",
       "      <th></th>\n",
       "      <th>?|10431</th>\n",
       "      <th>?|553137</th>\n",
       "      <th>?|57714</th>\n",
       "      <th>?|653553</th>\n",
       "      <th>?|8225</th>\n",
       "      <th>A2M|2</th>\n",
       "      <th>A4GALT|53947</th>\n",
       "      <th>AAAS|8086</th>\n",
       "      <th>AACS|65985</th>\n",
       "      <th>AAGAB|79719</th>\n",
       "      <th>...</th>\n",
       "      <th>ZSWIM7|125150</th>\n",
       "      <th>ZW10|9183</th>\n",
       "      <th>ZXDB|158586</th>\n",
       "      <th>ZXDC|79364</th>\n",
       "      <th>ZYG11B|79699</th>\n",
       "      <th>ZYX|7791</th>\n",
       "      <th>ZZEF1|23140</th>\n",
       "      <th>ZZZ3|26009</th>\n",
       "      <th>new_death</th>\n",
       "      <th>death_event</th>\n",
       "    </tr>\n",
       "  </thead>\n",
       "  <tbody>\n",
       "    <tr>\n",
       "      <td>TCGA-A3-A8OX</td>\n",
       "      <td>864.8329</td>\n",
       "      <td>123.6901</td>\n",
       "      <td>762.7553</td>\n",
       "      <td>259.3501</td>\n",
       "      <td>527.3452</td>\n",
       "      <td>32553.2802</td>\n",
       "      <td>972.8954</td>\n",
       "      <td>525.3502</td>\n",
       "      <td>734.8253</td>\n",
       "      <td>741.1428</td>\n",
       "      <td>...</td>\n",
       "      <td>470.8900</td>\n",
       "      <td>328.5101</td>\n",
       "      <td>289.2751</td>\n",
       "      <td>967.5754</td>\n",
       "      <td>990.5179</td>\n",
       "      <td>4045.8617</td>\n",
       "      <td>1415.1206</td>\n",
       "      <td>592.1828</td>\n",
       "      <td>0</td>\n",
       "      <td>0</td>\n",
       "    </tr>\n",
       "    <tr>\n",
       "      <td>TCGA-A3-A8OU</td>\n",
       "      <td>642.0154</td>\n",
       "      <td>431.5319</td>\n",
       "      <td>624.5429</td>\n",
       "      <td>399.0248</td>\n",
       "      <td>788.7038</td>\n",
       "      <td>31333.4945</td>\n",
       "      <td>1786.6721</td>\n",
       "      <td>702.1536</td>\n",
       "      <td>526.2089</td>\n",
       "      <td>503.0475</td>\n",
       "      <td>...</td>\n",
       "      <td>419.2483</td>\n",
       "      <td>250.7111</td>\n",
       "      <td>383.1776</td>\n",
       "      <td>1112.9622</td>\n",
       "      <td>899.2280</td>\n",
       "      <td>4225.9244</td>\n",
       "      <td>1418.1227</td>\n",
       "      <td>449.8171</td>\n",
       "      <td>0</td>\n",
       "      <td>0</td>\n",
       "    </tr>\n",
       "    <tr>\n",
       "      <td>TCGA-BP-4337</td>\n",
       "      <td>934.0463</td>\n",
       "      <td>772.7273</td>\n",
       "      <td>466.1319</td>\n",
       "      <td>596.2567</td>\n",
       "      <td>699.6435</td>\n",
       "      <td>32191.5642</td>\n",
       "      <td>2510.2496</td>\n",
       "      <td>938.0570</td>\n",
       "      <td>881.4617</td>\n",
       "      <td>651.9608</td>\n",
       "      <td>...</td>\n",
       "      <td>267.3975</td>\n",
       "      <td>228.6096</td>\n",
       "      <td>189.8396</td>\n",
       "      <td>1154.1889</td>\n",
       "      <td>616.7558</td>\n",
       "      <td>5067.7362</td>\n",
       "      <td>1319.0731</td>\n",
       "      <td>471.0339</td>\n",
       "      <td>2</td>\n",
       "      <td>1</td>\n",
       "    </tr>\n",
       "    <tr>\n",
       "      <td>TCGA-A3-A8CQ</td>\n",
       "      <td>477.9031</td>\n",
       "      <td>283.6534</td>\n",
       "      <td>722.9503</td>\n",
       "      <td>337.7019</td>\n",
       "      <td>779.4372</td>\n",
       "      <td>31045.7665</td>\n",
       "      <td>1935.5887</td>\n",
       "      <td>615.6660</td>\n",
       "      <td>712.7908</td>\n",
       "      <td>408.4121</td>\n",
       "      <td>...</td>\n",
       "      <td>250.2895</td>\n",
       "      <td>289.7491</td>\n",
       "      <td>376.3080</td>\n",
       "      <td>1091.9435</td>\n",
       "      <td>967.9976</td>\n",
       "      <td>3791.5270</td>\n",
       "      <td>1752.7177</td>\n",
       "      <td>611.6022</td>\n",
       "      <td>3</td>\n",
       "      <td>0</td>\n",
       "    </tr>\n",
       "    <tr>\n",
       "      <td>TCGA-A3-A6NN</td>\n",
       "      <td>310.8729</td>\n",
       "      <td>556.6616</td>\n",
       "      <td>915.3905</td>\n",
       "      <td>234.3032</td>\n",
       "      <td>463.6294</td>\n",
       "      <td>40603.1432</td>\n",
       "      <td>2385.1455</td>\n",
       "      <td>638.2083</td>\n",
       "      <td>343.4150</td>\n",
       "      <td>494.6401</td>\n",
       "      <td>...</td>\n",
       "      <td>282.2358</td>\n",
       "      <td>351.8377</td>\n",
       "      <td>465.1608</td>\n",
       "      <td>907.7335</td>\n",
       "      <td>1130.1685</td>\n",
       "      <td>2765.3139</td>\n",
       "      <td>2091.5008</td>\n",
       "      <td>774.1194</td>\n",
       "      <td>3</td>\n",
       "      <td>0</td>\n",
       "    </tr>\n",
       "  </tbody>\n",
       "</table>\n",
       "<p>5 rows × 9377 columns</p>\n",
       "</div>"
      ],
      "text/plain": [
       "               ?|10431  ?|553137   ?|57714  ?|653553    ?|8225       A2M|2  \\\n",
       "TCGA-A3-A8OX  864.8329  123.6901  762.7553  259.3501  527.3452  32553.2802   \n",
       "TCGA-A3-A8OU  642.0154  431.5319  624.5429  399.0248  788.7038  31333.4945   \n",
       "TCGA-BP-4337  934.0463  772.7273  466.1319  596.2567  699.6435  32191.5642   \n",
       "TCGA-A3-A8CQ  477.9031  283.6534  722.9503  337.7019  779.4372  31045.7665   \n",
       "TCGA-A3-A6NN  310.8729  556.6616  915.3905  234.3032  463.6294  40603.1432   \n",
       "\n",
       "              A4GALT|53947  AAAS|8086  AACS|65985  AAGAB|79719  ...  \\\n",
       "TCGA-A3-A8OX      972.8954   525.3502    734.8253     741.1428  ...   \n",
       "TCGA-A3-A8OU     1786.6721   702.1536    526.2089     503.0475  ...   \n",
       "TCGA-BP-4337     2510.2496   938.0570    881.4617     651.9608  ...   \n",
       "TCGA-A3-A8CQ     1935.5887   615.6660    712.7908     408.4121  ...   \n",
       "TCGA-A3-A6NN     2385.1455   638.2083    343.4150     494.6401  ...   \n",
       "\n",
       "              ZSWIM7|125150  ZW10|9183  ZXDB|158586  ZXDC|79364  ZYG11B|79699  \\\n",
       "TCGA-A3-A8OX       470.8900   328.5101     289.2751    967.5754      990.5179   \n",
       "TCGA-A3-A8OU       419.2483   250.7111     383.1776   1112.9622      899.2280   \n",
       "TCGA-BP-4337       267.3975   228.6096     189.8396   1154.1889      616.7558   \n",
       "TCGA-A3-A8CQ       250.2895   289.7491     376.3080   1091.9435      967.9976   \n",
       "TCGA-A3-A6NN       282.2358   351.8377     465.1608    907.7335     1130.1685   \n",
       "\n",
       "               ZYX|7791  ZZEF1|23140  ZZZ3|26009  new_death  death_event  \n",
       "TCGA-A3-A8OX  4045.8617    1415.1206    592.1828          0            0  \n",
       "TCGA-A3-A8OU  4225.9244    1418.1227    449.8171          0            0  \n",
       "TCGA-BP-4337  5067.7362    1319.0731    471.0339          2            1  \n",
       "TCGA-A3-A8CQ  3791.5270    1752.7177    611.6022          3            0  \n",
       "TCGA-A3-A6NN  2765.3139    2091.5008    774.1194          3            0  \n",
       "\n",
       "[5 rows x 9377 columns]"
      ]
     },
     "execution_count": 7,
     "metadata": {},
     "output_type": "execute_result"
    }
   ],
   "source": [
    "df = data.merge(clinical, left_index= True, right_index = True)\n",
    "df = df.sort_values(by = \"new_death\")\n",
    "df.head()"
   ]
  },
  {
   "cell_type": "code",
   "execution_count": 8,
   "metadata": {},
   "outputs": [
    {
     "name": "stdout",
     "output_type": "stream",
     "text": [
      "X shape: (533, 9375)\n",
      "y shape: (533,)\n",
      "time shape: (533,)\n"
     ]
    }
   ],
   "source": [
    "X, y, time = df.iloc[:,:-2], df.iloc[:,-1].values, df.iloc[:,-2].values\n",
    "X = np.array(X.apply(lambda x: (x - np.mean(x))/np.std(x), axis = 0))\n",
    "print(f\"X shape: {X.shape}\\ny shape: {y.shape}\\ntime shape: {time.shape}\")"
   ]
  },
  {
   "cell_type": "code",
   "execution_count": 9,
   "metadata": {},
   "outputs": [],
   "source": [
    "n, d = X.shape"
   ]
  },
  {
   "cell_type": "code",
   "execution_count": 10,
   "metadata": {},
   "outputs": [],
   "source": [
    "# define the objective function\n",
    "@njit\n",
    "def F(w):\n",
    "    output = 0\n",
    "    for i in range(n):\n",
    "        if y[i] == 1:\n",
    "            sum_jR = np.sum(np.exp((X @ w)[i:]))\n",
    "            output += y[i]*(-X[i,:] @ w + np.log(sum_jR)) \n",
    "    return 1/n * output"
   ]
  },
  {
   "cell_type": "code",
   "execution_count": 20,
   "metadata": {},
   "outputs": [
    {
     "name": "stdout",
     "output_type": "stream",
     "text": [
      "L: 50\n"
     ]
    }
   ],
   "source": [
    "# initialize prarameters for the algorithm\n",
    "# stating point \n",
    "np.random.seed(7)\n",
    "w0 = np.random.rand(d)\n",
    "w0 = w0/np.sum(w0) * np.random.rand(1) *10\n",
    "\n",
    "# Lipschitz constant \n",
    "L = 50\n",
    "print(f\"L: {L}\")"
   ]
  },
  {
   "cell_type": "code",
   "execution_count": 12,
   "metadata": {},
   "outputs": [
    {
     "data": {
      "text/plain": [
       "8.899985191618605"
      ]
     },
     "execution_count": 12,
     "metadata": {},
     "output_type": "execute_result"
    }
   ],
   "source": [
    "np.linalg.norm(w0, 1)"
   ]
  },
  {
   "cell_type": "code",
   "execution_count": 17,
   "metadata": {
    "scrolled": true
   },
   "outputs": [
    {
     "name": "stdout",
     "output_type": "stream",
     "text": [
      "Loss evaluation at time 1:\t0.0760\n",
      "\n",
      "Loss evaluation at time 2:\t0.5292\n",
      "\n",
      "Loss evaluation at time 3:\t0.4531\n",
      "\n",
      "Loss evaluation at time 4:\t0.3681\n",
      "\n",
      "Loss evaluation at time 5:\t0.2969\n",
      "\n",
      "Loss evaluation at time 6:\t0.2405\n",
      "\n",
      "Loss evaluation at time 7:\t0.1965\n",
      "\n",
      "Loss evaluation at time 8:\t0.1620\n",
      "\n",
      "Loss evaluation at time 9:\t0.1348\n",
      "\n",
      "Loss evaluation at time 10:\t0.1133\n",
      "\n",
      "Loss evaluation at time 11:\t0.0960\n",
      "\n",
      "Loss evaluation at time 12:\t0.0820\n",
      "\n",
      "Loss evaluation at time 13:\t0.0706\n",
      "\n",
      "Loss evaluation at time 14:\t0.8152\n",
      "\n",
      "Loss evaluation at time 15:\t0.1249\n",
      "\n",
      "Loss evaluation at time 16:\t0.6568\n",
      "\n",
      "Loss evaluation at time 17:\t0.5354\n",
      "\n",
      "Loss evaluation at time 18:\t0.4295\n",
      "\n",
      "Loss evaluation at time 19:\t0.3371\n",
      "\n",
      "Loss evaluation at time 20:\t0.2538\n",
      "\n",
      "CPU times: user 1min 5s, sys: 18.4 s, total: 1min 23s\n",
      "Wall time: 8min 12s\n"
     ]
    }
   ],
   "source": [
    "%%time\n",
    "fpred, f, w, mean, t, loss = stochasticZFW(F, d, w0, method = \"IRDSA\", r=10, T=20, eps=1e-5)"
   ]
  },
  {
   "cell_type": "code",
   "execution_count": 18,
   "metadata": {},
   "outputs": [
    {
     "data": {
      "text/plain": [
       "[<matplotlib.lines.Line2D at 0x7f1260b77510>]"
      ]
     },
     "execution_count": 18,
     "metadata": {},
     "output_type": "execute_result"
    },
    {
     "data": {
      "image/png": "[encoded data removed]",
      "text/plain": [
       "<Figure size 432x288 with 1 Axes>"
      ]
     },
     "metadata": {
      "needs_background": "light"
     },
     "output_type": "display_data"
    }
   ],
   "source": [
    "plt.plot(loss, '-x') "
   ]
  },
  {
   "cell_type": "code",
   "execution_count": 19,
   "metadata": {},
   "outputs": [
    {
     "name": "stdout",
     "output_type": "stream",
     "text": [
      "2.1905202447317853 1.9545394882534937\n"
     ]
    }
   ],
   "source": [
    "print(F(w0), F(w))\n",
    "print(f'OUTPUT:\\n\\nF(w_pred) = {fpred}\\n\\nF(w) = {f}\\n\\nw = {w}\\n\\naverage w = {mean}\\n\\nT = {t}')"
   ]
  },
  {
   "cell_type": "code",
   "execution_count": 32,
   "metadata": {
    "scrolled": true
   },
   "outputs": [
    {
     "name": "stdout",
     "output_type": "stream",
     "text": [
      "CPU times: user 9min 24s, sys: 2.5 s, total: 9min 27s\n",
      "Wall time: 4min 44s\n"
     ]
    }
   ],
   "source": [
    "%%time\n",
    "fpred, f, w, mean, t, loss = stochasticZFW(F, d, w0, method = \"IRDSA\", r=10, T=20, eps=1e-6)"
   ]
  },
  {
   "cell_type": "code",
   "execution_count": 33,
   "metadata": {},
   "outputs": [
    {
     "name": "stdout",
     "output_type": "stream",
     "text": [
      "2.1905202447317853 3.4736213376838476\n",
      "OUTPUT:\n",
      "\n",
      "F(w_pred) = 3.4215941785267385\n",
      "\n",
      "F(w) = 3.4736213376838476\n",
      "\n",
      "w = [1.07900952e-05 1.10281570e-04 6.19916573e-05 ... 3.79153467e-05\n",
      " 1.53120237e-06 7.26986871e-05]\n",
      "\n",
      "average w = [3.64165712e-05 3.72200300e-04 2.09221844e-04 ... 1.27964295e-04\n",
      " 5.16780800e-06 2.45358069e-04]\n",
      "\n",
      "T = 20\n"
     ]
    },
    {
     "data": {
      "image/png": "[encoded data removed]",
      "text/plain": [
       "<Figure size 432x288 with 1 Axes>"
      ]
     },
     "metadata": {
      "needs_background": "light"
     },
     "output_type": "display_data"
    }
   ],
   "source": [
    "print(F(w0), F(w))\n",
    "print(f'OUTPUT:\\n\\nF(w_pred) = {fpred}\\n\\nF(w) = {f}\\n\\nw = {w}\\n\\naverage w = {mean}\\n\\nT = {t}')\n",
    "plt.plot(loss)\n",
    "plt.show()"
   ]
  },
  {
   "cell_type": "code",
   "execution_count": 4,
   "metadata": {},
   "outputs": [
    {
     "data": {
      "image/png": "[encoded data removed]",
      "text/plain": [
       "<Figure size 432x288 with 1 Axes>"
      ]
     },
     "metadata": {
      "needs_background": "light"
     },
     "output_type": "display_data"
    }
   ],
   "source": [
    "import numpy as np\n",
    "import matplotlib.pyplot as plt\n",
    "\n",
    "loss_cox = np.load('../Data/results/loss_SZFW_IRDSA_cox.npy')\n",
    "plt.plot(loss_cox)\n",
    "plt.show()"
   ]
  },
  {
   "cell_type": "code",
   "execution_count": null,
   "metadata": {},
   "outputs": [],
   "source": [
    "%%time\n",
    "fpred, f, w, mean, t, loss = IZFW(F, d, w0, L, B = 1, r = 10, T = int(L) + 10^3, eps = 1e-5)"
   ]
  },
  {
   "cell_type": "code",
   "execution_count": null,
   "metadata": {},
   "outputs": [],
   "source": [
    "print(F(w0), F(w))\n",
    "print(f'OUTPUT:\\n\\nF(w_pred) = {fpred}\\n\\nF(w) = {f}\\n\\nw = {w}\\n\\naverage w = {mean}\\n\\nT = {t}')\n",
    "plt.plot(loss)\n",
    "plt.show()"
   ]
  },
  {
   "cell_type": "code",
   "execution_count": null,
   "metadata": {},
   "outputs": [],
   "source": []
  }
 ],
 "metadata": {
  "kernelspec": {
   "display_name": "Python 3",
   "language": "python",
   "name": "python3"
  },
  "language_info": {
   "codemirror_mode": {
    "name": "ipython",
    "version": 3
   },
   "file_extension": ".py",
   "mimetype": "text/x-python",
   "name": "python",
   "nbconvert_exporter": "python",
   "pygments_lexer": "ipython3",
   "version": "3.7.4"
  }
 },
 "nbformat": 4,
 "nbformat_minor": 4
}
