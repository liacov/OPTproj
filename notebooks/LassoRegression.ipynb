{
 "cells": [
  {
   "cell_type": "code",
   "execution_count": 79,
   "metadata": {},
   "outputs": [],
   "source": [
    "import numpy as np\n",
    "from scipy.sparse.linalg import norm\n",
    "import matplotlib.pyplot as plt\n",
    "from sklearn import datasets"
   ]
  },
  {
   "cell_type": "code",
   "execution_count": 87,
   "metadata": {},
   "outputs": [],
   "source": [
    "def e(i, d):\n",
    "    ei = np.zeros(d)\n",
    "    ei[i] = 1\n",
    "    return ei\n",
    "\n",
    "\n",
    "\n",
    "def KWSA(F, w, m, c, d):\n",
    "    \"\"\" \n",
    "    Kiefer-Wolfowitz stochastic approximation\n",
    "    for gradient estimation \n",
    "    \n",
    "    INPUT:\n",
    "    - F: objective function\n",
    "    - w: current weight\n",
    "    - m: sample size (null in this case)\n",
    "    - d: dimension\n",
    "    - c: costant\n",
    "    \n",
    "    \"\"\"\n",
    "\n",
    "    F_wc = np.array([F(w + c * e(i, d)) for i in range(d)])\n",
    "    return (F_wc - F(w)) / c\n",
    "\n",
    "\n",
    "\n",
    "\n",
    "def IRDSA(F, w, m, c, d):\n",
    "    \"\"\" \n",
    "    Improvised Random Direction stochastic approximation\n",
    "    for gradient estimation \n",
    "    \n",
    "    INPUT:\n",
    "    - F: objective function\n",
    "    - w: current weight\n",
    "    - m: sample dimension\n",
    "    - d: features dimension\n",
    "    - c: costant\n",
    "    \n",
    "    \"\"\"\n",
    "    z = np.random.normal(0, 1, (d, m))\n",
    "    F_w = F(w)\n",
    "    return np.mean([(F(w + c * z[:,i]) - F_w) / c * z[:,i] for i in range(m)], axis = 0)\n",
    "    \n",
    "    \n",
    "\n",
    "\n",
    "def detZFW(F, L, d, w0, r=1, T=100, eps=1e-5):\n",
    "    \"\"\"\n",
    "    INPUT\n",
    "    - F: loss function\n",
    "    - L: Lip constant\n",
    "    - d: dimension\n",
    "    - w0: starting point\n",
    "    - r: radius of the ball\n",
    "    - T: max iteration\n",
    "    - eps: tolerance\n",
    "    \"\"\"\n",
    "\n",
    "    gamma = lambda t: 2/(t+2)\n",
    "    c = lambda t: L*gamma(t)/d\n",
    "    w = w0\n",
    "    partial = 0\n",
    "    for t in range(1, T+1):\n",
    "        # comupute the gradient approx\n",
    "        gt = KWSA(F, w, None, c(t), d)\n",
    "        # compute the linear problem solution on the L1 Ball of radius r\n",
    "        i_k = np.argmax(np.abs(gt))\n",
    "        ei = e(i_k, d) * r\n",
    "        v = np.sign(-gt[i_k]) * ei\n",
    "        # compute step \n",
    "        w_pred = w\n",
    "        w = (1 - gamma(t)) * w + gamma(t) * v\n",
    "        partial += w\n",
    "        loss_eval = F(w_pred) - F(w)\n",
    "        print(f\"Loss evaluation at time {t}:\\t{loss_eval:.7f}\\n\")\n",
    "        if loss_eval < eps: break # check stopping condition\n",
    "    return F(w_pred), F(w), w, partial/T, t"
   ]
  },
  {
   "cell_type": "markdown",
   "metadata": {},
   "source": [
    "## Stochastic lasso regression"
   ]
  },
  {
   "cell_type": "code",
   "execution_count": 81,
   "metadata": {},
   "outputs": [],
   "source": [
    "# load data\n",
    "X, y = datasets.load_svmlight_file(\"../Data/covtype.libsvm.binary.scale.bz2\")"
   ]
  },
  {
   "cell_type": "code",
   "execution_count": 82,
   "metadata": {},
   "outputs": [
    {
     "name": "stdout",
     "output_type": "stream",
     "text": [
      "Space Dimensions\n",
      "d: 54\n",
      "n: 581012\n"
     ]
    }
   ],
   "source": [
    "# space dimension\n",
    "d = X.shape[1]\n",
    "n = y.shape[0]\n",
    "print(f\"Space Dimensions\\nd: {d}\")\n",
    "print(f\"n: {y.shape[0]}\")"
   ]
  },
  {
   "cell_type": "code",
   "execution_count": 83,
   "metadata": {},
   "outputs": [],
   "source": [
    "# define the objective function\n",
    "F = lambda w: 0.5/n * np.sum(np.power(y - X @ w, 2))"
   ]
  },
  {
   "cell_type": "code",
   "execution_count": 141,
   "metadata": {},
   "outputs": [
    {
     "name": "stdout",
     "output_type": "stream",
     "text": [
      "L: 3\n",
      "w0: [0.01427508 0.         0.00015906 0.         0.01389659 0.00688839\n",
      " 0.         0.         0.01932185 0.01479194 0.02022282 0.00448395\n",
      " 0.00748594 0.01342289 0.01271894 0.02491499 0.02041378 0.00027417\n",
      " 0.00842006 0.00915197 0.02134084 0.01812206 0.         0.00217311\n",
      " 0.02532913 0.         0.01866816 0.         0.         0.00976202\n",
      " 0.         0.         0.         0.         0.0048263  0.00815502\n",
      " 0.         0.00240203 0.01385256 0.0026268  0.02195627 0.02554037\n",
      " 0.         0.         0.00559095 0.02190458 0.01865861 0.\n",
      " 0.01393978 0.         0.00446371 0.00612003 0.0110981  0.021799  ]\n"
     ]
    }
   ],
   "source": [
    "# initialize prarameters for the algorithm\n",
    "\n",
    "# stating point \n",
    "np.random.seed(1007)\n",
    "w0 = np.random.rand(d)\n",
    "w0 = w0/np.sum(w0) * np.random.rand(1)\n",
    "#print(w0)\n",
    "#print(F(w0))\n",
    "# Lipschitz constant computation\n",
    "L = 3 #np.linalg.norm(X.dot(w0))\n",
    "print(f\"L: {L}\")\n",
    "\n",
    "indeces = np.random.randint(low = 0, high = d-1, size = 20)\n",
    "w0[indeces] = int(0)\n",
    "print(f\"w0: {w0}\")"
   ]
  },
  {
   "cell_type": "code",
   "execution_count": 142,
   "metadata": {
    "scrolled": true
   },
   "outputs": [
    {
     "name": "stdout",
     "output_type": "stream",
     "text": [
      "Loss evaluation at time 1:\t0.6434678\n",
      "\n",
      "Loss evaluation at time 2:\t0.1126711\n",
      "\n",
      "Loss evaluation at time 3:\t0.0396705\n",
      "\n",
      "Loss evaluation at time 4:\t0.0186785\n",
      "\n",
      "Loss evaluation at time 5:\t0.0103272\n",
      "\n",
      "Loss evaluation at time 6:\t0.0063267\n",
      "\n",
      "Loss evaluation at time 7:\t0.0041631\n",
      "\n",
      "Loss evaluation at time 8:\t0.0028882\n",
      "\n",
      "Loss evaluation at time 9:\t0.0020870\n",
      "\n",
      "Loss evaluation at time 10:\t0.0015578\n",
      "\n",
      "Loss evaluation at time 11:\t0.0011940\n",
      "\n",
      "Loss evaluation at time 12:\t0.0009355\n",
      "\n",
      "Loss evaluation at time 13:\t0.0007467\n",
      "\n",
      "Loss evaluation at time 14:\t0.0006056\n",
      "\n",
      "Loss evaluation at time 15:\t0.0004980\n",
      "\n",
      "Loss evaluation at time 16:\t0.0004145\n",
      "\n",
      "Loss evaluation at time 17:\t0.0003487\n",
      "\n",
      "Loss evaluation at time 18:\t0.0002961\n",
      "\n",
      "Loss evaluation at time 19:\t0.0002536\n",
      "\n",
      "Loss evaluation at time 20:\t0.0002189\n",
      "\n",
      "Loss evaluation at time 21:\t0.0001902\n",
      "\n",
      "Loss evaluation at time 22:\t0.0001664\n",
      "\n",
      "Loss evaluation at time 23:\t0.0001464\n",
      "\n",
      "Loss evaluation at time 24:\t0.0001294\n",
      "\n",
      "Loss evaluation at time 25:\t0.0001150\n",
      "\n",
      "Loss evaluation at time 26:\t0.0001027\n",
      "\n",
      "Loss evaluation at time 27:\t0.0000920\n",
      "\n",
      "Loss evaluation at time 28:\t0.0000828\n",
      "\n",
      "Loss evaluation at time 29:\t0.0000748\n",
      "\n",
      "Loss evaluation at time 30:\t0.0000677\n",
      "\n",
      "Loss evaluation at time 31:\t0.0000616\n",
      "\n",
      "Loss evaluation at time 32:\t0.0000561\n",
      "\n",
      "Loss evaluation at time 33:\t0.0000513\n",
      "\n",
      "Loss evaluation at time 34:\t0.0000470\n",
      "\n",
      "Loss evaluation at time 35:\t0.0000432\n",
      "\n",
      "Loss evaluation at time 36:\t0.0000398\n",
      "\n",
      "Loss evaluation at time 37:\t0.0000367\n",
      "\n",
      "Loss evaluation at time 38:\t0.0000340\n",
      "\n",
      "Loss evaluation at time 39:\t0.0000315\n",
      "\n",
      "Loss evaluation at time 40:\t0.0000292\n",
      "\n",
      "Loss evaluation at time 41:\t0.0000272\n",
      "\n",
      "Loss evaluation at time 42:\t0.0000253\n",
      "\n",
      "Loss evaluation at time 43:\t0.0000236\n",
      "\n",
      "Loss evaluation at time 44:\t0.0000221\n",
      "\n",
      "Loss evaluation at time 45:\t0.0000207\n",
      "\n",
      "Loss evaluation at time 46:\t0.0000194\n",
      "\n",
      "Loss evaluation at time 47:\t0.0000182\n",
      "\n",
      "Loss evaluation at time 48:\t0.0000171\n",
      "\n",
      "Loss evaluation at time 49:\t0.0000161\n",
      "\n",
      "Loss evaluation at time 50:\t0.0000152\n",
      "\n",
      "Loss evaluation at time 51:\t0.0000143\n",
      "\n",
      "Loss evaluation at time 52:\t0.0000135\n",
      "\n",
      "Loss evaluation at time 53:\t0.0000128\n",
      "\n",
      "Loss evaluation at time 54:\t0.0000121\n",
      "\n",
      "Loss evaluation at time 55:\t0.0000115\n",
      "\n",
      "Loss evaluation at time 56:\t0.0000109\n",
      "\n",
      "Loss evaluation at time 57:\t0.0000103\n",
      "\n",
      "Loss evaluation at time 58:\t0.0000098\n",
      "\n",
      "CPU times: user 1min 19s, sys: 921 ms, total: 1min 20s\n",
      "Wall time: 1min 22s\n"
     ]
    }
   ],
   "source": [
    "%%time\n",
    "fpred, f, w_det, mean, t = detZFW(F, L, d, w0, T=100)"
   ]
  },
  {
   "cell_type": "code",
   "execution_count": 143,
   "metadata": {},
   "outputs": [
    {
     "name": "stdout",
     "output_type": "stream",
     "text": [
      "OUTPUT:\n",
      "\n",
      "F(w0) = 1.1586989989974017\n",
      "\n",
      "F(w_pred) = 0.30946125867317376\n",
      "\n",
      "F(w) = 0.30945146089466885\n",
      "\n",
      "w = [8.06501705e-06 0.00000000e+00 8.98646933e-08 0.00000000e+00\n",
      " 7.85118183e-06 3.89174810e-06 0.00000000e+00 9.99435028e-01\n",
      " 1.09162988e-05 8.35702561e-06 1.14253214e-05 2.53330594e-06\n",
      " 4.22934586e-06 7.58355126e-06 7.18584115e-06 1.40762660e-05\n",
      " 1.15332112e-05 1.54897320e-07 4.75709568e-06 5.17060659e-06\n",
      " 1.20569735e-05 1.02384500e-05 0.00000000e+00 1.22774416e-06\n",
      " 1.43102433e-05 0.00000000e+00 1.05469819e-05 0.00000000e+00\n",
      " 0.00000000e+00 5.51526653e-06 0.00000000e+00 0.00000000e+00\n",
      " 0.00000000e+00 0.00000000e+00 2.72672452e-06 4.60735805e-06\n",
      " 0.00000000e+00 1.35707673e-06 7.82630471e-06 1.48406801e-06\n",
      " 1.24046722e-05 1.44295881e-05 0.00000000e+00 0.00000000e+00\n",
      " 3.15873095e-06 1.23754668e-05 1.05415862e-05 0.00000000e+00\n",
      " 7.87558191e-06 0.00000000e+00 2.52187150e-06 3.45764426e-06\n",
      " 6.27011077e-06 1.23158219e-05]\n",
      "\n",
      "average w = [1.37992442e-04 0.00000000e+00 1.53758490e-06 0.00000000e+00\n",
      " 1.34333721e-04 6.65878100e-05 0.00000000e+00 5.70333333e-01\n",
      " 1.86777872e-04 1.42988708e-04 1.95487248e-04 4.33448646e-05\n",
      " 7.23641077e-05 1.29754562e-04 1.22949742e-04 2.40844911e-04\n",
      " 1.97333244e-04 2.65029314e-06 8.13939072e-05 8.84690788e-05\n",
      " 2.06294817e-04 1.75179879e-04 0.00000000e+00 2.10067026e-05\n",
      " 2.44848263e-04 0.00000000e+00 1.80458861e-04 0.00000000e+00\n",
      " 0.00000000e+00 9.43662103e-05 0.00000000e+00 0.00000000e+00\n",
      " 0.00000000e+00 0.00000000e+00 4.66542566e-05 7.88318963e-05\n",
      " 0.00000000e+00 2.32195828e-05 1.33908074e-04 2.53924037e-05\n",
      " 2.12243942e-04 2.46890252e-04 0.00000000e+00 0.00000000e+00\n",
      " 5.40458865e-05 2.11744236e-04 1.80366540e-04 0.00000000e+00\n",
      " 1.34751206e-04 0.00000000e+00 4.31492214e-05 5.91602932e-05\n",
      " 1.07281595e-04 2.10723713e-04]\n",
      "\n",
      "T = 58\n"
     ]
    }
   ],
   "source": [
    "print(f'OUTPUT:\\n\\nF(w0) = {F(w0)}\\n\\nF(w_pred) = {fpred}\\n\\nF(w) = {f}\\n\\nw = {w_det}\\n\\naverage w = {mean}\\n\\nT = {t}')"
   ]
  },
  {
   "cell_type": "markdown",
   "metadata": {},
   "source": [
    "## Stochastic Gradient Free Frank Wolfe"
   ]
  },
  {
   "cell_type": "code",
   "execution_count": 144,
   "metadata": {},
   "outputs": [],
   "source": [
    "def stochasticZFW(F, d,  w0, method = \"IRDSA\", r=1, T=100, eps=1e-5):\n",
    "    \"\"\"\n",
    "    INPUT\n",
    "    - F: loss function\n",
    "    - d: dimension\n",
    "    - w0: starting point\n",
    "    - method: zeroth order oracle\n",
    "    - r: radius of the ball\n",
    "    - T: max iteration\n",
    "    - eps: tolerance\n",
    "    \"\"\"\n",
    "    \n",
    "    Parameters_dict = {\"KWSA\": {\"m\": None, \n",
    "                                \"c\": lambda t: 2 / (np.sqrt(d) * np.power(t+8, 1/3)),\n",
    "                                \"p\": lambda t: 4 / np.power(t+8, 2/3),\n",
    "                                \"oracle\": KWSA},\n",
    "                       \n",
    "                   \n",
    "                       \"RDSA\": {\"m\": 1, \n",
    "                                \"c\": lambda t: 2 / (np.power(d, 3/2) * np.power(t+8, 1/3)),\n",
    "                                \"p\": lambda t: 4 / (np.power(d, 1/3) * np.power(t+8, 2/3)),\n",
    "                                \"oracle\": IRDSA},\n",
    "                   \n",
    "                       \"IRDSA\": {\"m\": 6, \n",
    "                                \"c\": lambda t: 2 * np.sqrt(6) / (np.power(d, 3/2) * np.power(t+8, 1/3)),\n",
    "                                \"p\": lambda t: 4 / (np.power(1+d/6, 1/3) * np.power(t+8, 2/3)),\n",
    "                                \"oracle\": IRDSA}\n",
    "                  \n",
    "                        }\n",
    "    \n",
    "    return sZFW(F, d, w0, Parameters_dict[method], r, T, eps)\n",
    "    \n",
    "  \n",
    "\n",
    "    \n",
    "def sZFW(F, d, w0, params, r, T, eps):\n",
    "    \"\"\"\n",
    "    INPUT\n",
    "    - F: loss function\n",
    "    - d: dimension\n",
    "    - w0: starting point\n",
    "    - params: dict of parameters for the selected method\n",
    "    - r: radius of the ball\n",
    "    - T: max iteration\n",
    "    - eps: tolerance\n",
    "    \"\"\"\n",
    "    \n",
    "    loss = []\n",
    "    gamma = lambda t: 2/(t+8)\n",
    "    w = w0\n",
    "    dt = np.zeros(d)\n",
    "    partial = 0\n",
    "    for t in range(1, T+1):\n",
    "        # comupute the gradient approx\n",
    "        gt = params[\"oracle\"](F, w, params[\"m\"], params[\"c\"](t), d)\n",
    "        dt = (1 - params[\"p\"](t)) * dt + params[\"p\"](t) * gt\n",
    "        # compute the linear problem solution on the L1 Ball of radius r\n",
    "        ei = e(np.argmax(np.abs(dt)), d) * r\n",
    "        v = np.sign(-dt) * ei\n",
    "        # compute step \n",
    "        w_pred = w\n",
    "        w = (1 - gamma(t)) * w + gamma(t) * v\n",
    "        partial += w\n",
    "        loss_eval = np.abs(F(w_pred) - F(w))\n",
    "        loss.append(loss_eval)\n",
    "        print(f\"Loss evaluation at time {t}:\\t{loss_eval:.7f}\\n\")\n",
    "        if loss_eval < eps: break # check stopping condition\n",
    "    return F(w_pred), F(w), w, partial/T, t, loss\n"
   ]
  },
  {
   "cell_type": "code",
   "execution_count": 145,
   "metadata": {
    "scrolled": true
   },
   "outputs": [
    {
     "name": "stdout",
     "output_type": "stream",
     "text": [
      "Loss evaluation at time 1:\t0.0109030\n",
      "\n",
      "Loss evaluation at time 2:\t0.0166389\n",
      "\n",
      "Loss evaluation at time 3:\t0.2074434\n",
      "\n",
      "Loss evaluation at time 4:\t0.0721850\n",
      "\n",
      "Loss evaluation at time 5:\t0.0312891\n",
      "\n",
      "Loss evaluation at time 6:\t0.0997247\n",
      "\n",
      "Loss evaluation at time 7:\t0.0255838\n",
      "\n",
      "Loss evaluation at time 8:\t0.0472122\n",
      "\n",
      "Loss evaluation at time 9:\t0.0643322\n",
      "\n",
      "Loss evaluation at time 10:\t0.0509400\n",
      "\n",
      "Loss evaluation at time 11:\t0.0455933\n",
      "\n",
      "Loss evaluation at time 12:\t0.0027826\n",
      "\n",
      "Loss evaluation at time 13:\t0.0359570\n",
      "\n",
      "Loss evaluation at time 14:\t0.0262340\n",
      "\n",
      "Loss evaluation at time 15:\t0.0256478\n",
      "\n",
      "Loss evaluation at time 16:\t0.0185212\n",
      "\n",
      "Loss evaluation at time 17:\t0.0158879\n",
      "\n",
      "Loss evaluation at time 18:\t0.0137342\n",
      "\n",
      "Loss evaluation at time 19:\t0.0148630\n",
      "\n",
      "Loss evaluation at time 20:\t0.0129855\n",
      "\n",
      "Loss evaluation at time 21:\t0.0088704\n",
      "\n",
      "Loss evaluation at time 22:\t0.0103234\n",
      "\n",
      "Loss evaluation at time 23:\t0.0091657\n",
      "\n",
      "Loss evaluation at time 24:\t0.0059770\n",
      "\n",
      "Loss evaluation at time 25:\t0.0053577\n",
      "\n",
      "Loss evaluation at time 26:\t0.0048219\n",
      "\n",
      "Loss evaluation at time 27:\t0.0043560\n",
      "\n",
      "Loss evaluation at time 28:\t0.0059611\n",
      "\n",
      "Loss evaluation at time 29:\t0.0054096\n",
      "\n",
      "Loss evaluation at time 30:\t0.0049248\n",
      "\n",
      "Loss evaluation at time 31:\t0.0044968\n",
      "\n",
      "Loss evaluation at time 32:\t0.0041175\n",
      "\n",
      "Loss evaluation at time 33:\t0.0037801\n",
      "\n",
      "Loss evaluation at time 34:\t0.0034791\n",
      "\n",
      "Loss evaluation at time 35:\t0.0032095\n",
      "\n",
      "Loss evaluation at time 36:\t0.0029674\n",
      "\n",
      "Loss evaluation at time 37:\t0.0027493\n",
      "\n",
      "Loss evaluation at time 38:\t0.0025522\n",
      "\n",
      "Loss evaluation at time 39:\t0.0023738\n",
      "\n",
      "Loss evaluation at time 40:\t0.0022119\n",
      "\n",
      "Loss evaluation at time 41:\t0.0020644\n",
      "\n",
      "Loss evaluation at time 42:\t0.0019300\n",
      "\n",
      "Loss evaluation at time 43:\t0.0018071\n",
      "\n",
      "Loss evaluation at time 44:\t0.0016945\n",
      "\n",
      "Loss evaluation at time 45:\t0.0015912\n",
      "\n",
      "Loss evaluation at time 46:\t0.0014962\n",
      "\n",
      "Loss evaluation at time 47:\t0.0014087\n",
      "\n",
      "Loss evaluation at time 48:\t0.0013280\n",
      "\n",
      "Loss evaluation at time 49:\t0.0012533\n",
      "\n",
      "Loss evaluation at time 50:\t0.0011842\n",
      "\n",
      "Loss evaluation at time 51:\t0.0011202\n",
      "\n",
      "Loss evaluation at time 52:\t0.0010607\n",
      "\n",
      "Loss evaluation at time 53:\t0.0010054\n",
      "\n",
      "Loss evaluation at time 54:\t0.0009540\n",
      "\n",
      "Loss evaluation at time 55:\t0.0009060\n",
      "\n",
      "Loss evaluation at time 56:\t0.0008612\n",
      "\n",
      "Loss evaluation at time 57:\t0.0008193\n",
      "\n",
      "Loss evaluation at time 58:\t0.0007802\n",
      "\n",
      "Loss evaluation at time 59:\t0.0007435\n",
      "\n",
      "Loss evaluation at time 60:\t0.0007091\n",
      "\n",
      "Loss evaluation at time 61:\t0.0006768\n",
      "\n",
      "Loss evaluation at time 62:\t0.0006464\n",
      "\n",
      "Loss evaluation at time 63:\t0.0006179\n",
      "\n",
      "Loss evaluation at time 64:\t0.0005910\n",
      "\n",
      "Loss evaluation at time 65:\t0.0005657\n",
      "\n",
      "Loss evaluation at time 66:\t0.0005418\n",
      "\n",
      "Loss evaluation at time 67:\t0.0005192\n",
      "\n",
      "Loss evaluation at time 68:\t0.0004979\n",
      "\n",
      "Loss evaluation at time 69:\t0.0001640\n",
      "\n",
      "Loss evaluation at time 70:\t0.0001664\n",
      "\n",
      "Loss evaluation at time 71:\t0.0001682\n",
      "\n",
      "Loss evaluation at time 72:\t0.0004770\n",
      "\n",
      "Loss evaluation at time 73:\t0.0001772\n",
      "\n",
      "Loss evaluation at time 74:\t0.0001776\n",
      "\n",
      "Loss evaluation at time 75:\t0.0001775\n",
      "\n",
      "Loss evaluation at time 76:\t0.0004602\n",
      "\n",
      "Loss evaluation at time 77:\t0.0004430\n",
      "\n",
      "Loss evaluation at time 78:\t0.0001902\n",
      "\n",
      "Loss evaluation at time 79:\t0.0001891\n",
      "\n",
      "Loss evaluation at time 80:\t0.0001877\n",
      "\n",
      "Loss evaluation at time 81:\t0.0001861\n",
      "\n",
      "Loss evaluation at time 82:\t0.0001843\n",
      "\n",
      "Loss evaluation at time 83:\t0.0001823\n",
      "\n",
      "Loss evaluation at time 84:\t0.0001803\n",
      "\n",
      "Loss evaluation at time 85:\t0.0001780\n",
      "\n",
      "Loss evaluation at time 86:\t0.0001757\n",
      "\n",
      "Loss evaluation at time 87:\t0.0001734\n",
      "\n",
      "Loss evaluation at time 88:\t0.0001709\n",
      "\n",
      "Loss evaluation at time 89:\t0.0001684\n",
      "\n",
      "Loss evaluation at time 90:\t0.0001659\n",
      "\n",
      "Loss evaluation at time 91:\t0.0001633\n",
      "\n",
      "Loss evaluation at time 92:\t0.0001608\n",
      "\n",
      "Loss evaluation at time 93:\t0.0001582\n",
      "\n",
      "Loss evaluation at time 94:\t0.0001556\n",
      "\n",
      "Loss evaluation at time 95:\t0.0001530\n",
      "\n",
      "Loss evaluation at time 96:\t0.0001504\n",
      "\n",
      "Loss evaluation at time 97:\t0.0001478\n",
      "\n",
      "Loss evaluation at time 98:\t0.0001453\n",
      "\n",
      "Loss evaluation at time 99:\t0.0001428\n",
      "\n",
      "Loss evaluation at time 100:\t0.0001402\n",
      "\n",
      "CPU times: user 21.5 s, sys: 259 ms, total: 21.8 s\n",
      "Wall time: 22.2 s\n"
     ]
    }
   ],
   "source": [
    "%%time\n",
    "fpred, f, w, mean, t, loss = stochasticZFW(F, d, w0, method = \"IRDSA\", r=1, T=100, eps=1e-5)"
   ]
  },
  {
   "cell_type": "code",
   "execution_count": 146,
   "metadata": {},
   "outputs": [
    {
     "data": {
      "text/plain": [
       "[<matplotlib.lines.Line2D at 0x7fa3c56b9c90>]"
      ]
     },
     "execution_count": 146,
     "metadata": {},
     "output_type": "execute_result"
    },
    {
     "data": {
      "image/png": "[encoded data removed]",
      "text/plain": [
       "<Figure size 432x288 with 1 Axes>"
      ]
     },
     "metadata": {
      "needs_background": "light"
     },
     "output_type": "display_data"
    }
   ],
   "source": [
    "plt.plot(loss)"
   ]
  },
  {
   "cell_type": "code",
   "execution_count": 147,
   "metadata": {},
   "outputs": [
    {
     "name": "stdout",
     "output_type": "stream",
     "text": [
      "OUTPUT:\n",
      "\n",
      "F(w0) = 1.1586989989974017\n",
      "\n",
      "F(w_pred) = 0.33038951584565174\n",
      "\n",
      "F(w) = 0.3305297578114198\n",
      "\n",
      "w = [ 4.39593324e-03  2.07684320e-03  7.70802042e-07  0.00000000e+00\n",
      "  6.73424319e-05  3.33809339e-05  5.13326411e-01  4.66597439e-01\n",
      "  9.36330510e-05  7.16812373e-05  3.38633419e-03  2.17290831e-05\n",
      "  3.62766322e-05  6.50468675e-05  6.16355638e-05  1.20737235e-04\n",
      "  9.89245322e-05  1.32861045e-06  4.08033337e-05  4.43501666e-05\n",
      "  1.03417032e-04  8.78188960e-05  0.00000000e+00  2.60658480e-03\n",
      "  1.22744143e-04  0.00000000e+00  9.04652863e-05  0.00000000e+00\n",
      "  0.00000000e+00  4.73064398e-05  0.00000000e+00  0.00000000e+00\n",
      "  0.00000000e+00  0.00000000e+00  2.33881044e-05  3.95189798e-05\n",
      "  1.38456213e-03  1.16401389e-05  6.71290519e-05  1.27293892e-05\n",
      " -1.45123303e-03  1.23767806e-04  0.00000000e+00  0.00000000e+00\n",
      "  2.70935801e-05  1.06148863e-04  9.04190052e-05  0.00000000e+00\n",
      "  6.75517202e-05  0.00000000e+00  2.16310058e-05  2.96574679e-05\n",
      "  5.37810124e-05  1.05637268e-04]\n",
      "\n",
      "average w = [ 3.62956070e-02  1.77777778e-02  1.03094773e-05  0.00000000e+00\n",
      "  9.00705027e-04  4.46469991e-04  2.50740741e-01  5.60740741e-01\n",
      "  1.25234206e-03  9.58736549e-04  1.77922197e-02  2.90626487e-04\n",
      "  4.85199956e-04  8.70001853e-04  8.24375666e-04  1.61486052e-03\n",
      "  1.32311562e-03  1.77701647e-05  5.45744588e-04  5.93183479e-04\n",
      "  1.38320280e-03  1.17457773e-03  0.00000000e+00  1.73630718e-02\n",
      "  1.64170291e-03  0.00000000e+00  1.20997320e-03  0.00000000e+00\n",
      "  0.00000000e+00  6.32723632e-04  0.00000000e+00  0.00000000e+00\n",
      "  0.00000000e+00  0.00000000e+00  3.12815897e-04  5.28566354e-04\n",
      "  1.85185185e-02  1.55686858e-04  8.97851069e-04  1.70255580e-04\n",
      " -1.69102418e-02  1.65539441e-03  0.00000000e+00  0.00000000e+00\n",
      "  3.62376634e-04  1.41974105e-03  1.20935420e-03  0.00000000e+00\n",
      "  9.03504258e-04  0.00000000e+00  2.89314703e-04  3.96668633e-04\n",
      "  7.19321041e-04  1.41289846e-03]\n",
      "\n",
      "T = 100\n"
     ]
    }
   ],
   "source": [
    "print(f'OUTPUT:\\n\\nF(w0) = {f}\\n\\nF(w_pred) = {fpred}\\n\\nF(w) = {f}\\n\\nw = {w}\\n\\naverage w = {mean}\\n\\nT = {t}')"
   ]
  },
  {
   "cell_type": "code",
   "execution_count": null,
   "metadata": {},
   "outputs": [],
   "source": []
  },
  {
   "cell_type": "markdown",
   "metadata": {},
   "source": [
    "## Zeroth order stochastic accelerated gradient method with inexact updates"
   ]
  },
  {
   "cell_type": "code",
   "execution_count": 21,
   "metadata": {},
   "outputs": [],
   "source": [
    "def InexactUpdate(g, d, v, r, gamma, mu):\n",
    "    \"\"\"\n",
    "    INPUT\n",
    "    - g: gradient approximation \n",
    "    - d: dimension\n",
    "    - v: starting point\n",
    "    - r: radius\n",
    "    - gamma: decreasing coefficient\n",
    "    - mu: threshold\n",
    "    \"\"\"\n",
    "    \n",
    "    haty = v\n",
    "    t = 1\n",
    "    while True:\n",
    "        # ARGMIN PROBLEM\n",
    "        ht1 = g + gamma*(haty - v)\n",
    "        i_k = np.argmax(np.abs(ht1))\n",
    "        ei = e(i_k, d) * r\n",
    "        yt = np.sign(-ht1[i_k]) * ei\n",
    "        if np.dot(ht1, yt - haty) >= - mu:\n",
    "            break\n",
    "        else:\n",
    "            haty = (t-1)/(t+1) * haty + 2/(t+1)*yt\n",
    "            t +=1\n",
    "    return haty\n",
    "    \n",
    "\n",
    "L = 3\n",
    "D = 2*r*10 # we will start from m = 6, up to T * (T+1) / D * (d+3)\n",
    "B = 1\n",
    "\n",
    "\n",
    "def IZFW(F, d, w0, L, B, D, r = 1, T = 100, eps = 1e-6):\n",
    "    \"\"\"\n",
    "    INPUT\n",
    "    - F: loss function\n",
    "    - d: dimension\n",
    "    - w0: starting point\n",
    "    - L: lipschitz\n",
    "    - B: 1\n",
    "    - D: number greater than diamater l1 ball\n",
    "    - r: radius of the ball\n",
    "    - T: max iteration\n",
    "    - eps: tolerance\n",
    "    \"\"\"\n",
    "    \n",
    "    alpha = lambda t: 2/(t+2)\n",
    "    gamma = lambda t: 4*L/t\n",
    "    mu = lambda t: L*D/(t*T)\n",
    "    m = lambda t: t * (t+1) / D * (d+3)#np.max([(d+5)*B*T, d+3])\n",
    "    c = 1 / (np.sqrt(2*T)) * np.max([1/(d+3), np.sqrt(D/(d*(T+1)))]) # smoothing parameter now fixed\n",
    "    \n",
    "    loss = []\n",
    "    v, w = w0, w0\n",
    "    partial = 0\n",
    "    \n",
    "    for t in range(1, T+1):\n",
    "        dt = (1-alpha(t)) * w + alpha(t) * v\n",
    "        g = IRDSA(F, dt, int(np.ceil(m(t))), c, d)\n",
    "        v = InexactUpdate(g, d, v, r, gamma(t), mu(t)) #ICG\n",
    "        w_pred = w\n",
    "        w = (1 - alpha(t)) * w + alpha(t) * v\n",
    "        partial += w\n",
    "        loss_eval = np.abs(F(w_pred) - F(w))\n",
    "        loss.append(loss_eval)\n",
    "        print(f\"Loss evaluation at time {t}:\\t{loss_eval:.7f}\\n\")\n",
    "        print(int(np.ceil(m(t))))\n",
    "        if loss_eval < eps: break # check stopping condition\n",
    "    return F(w_pred), F(w), w, partial/T, t, loss"
   ]
  },
  {
   "cell_type": "markdown",
   "metadata": {},
   "source": [
    "I parametri degli algoritmi (L per deterministic FW e IGC + tutti quelli di IGC che sono collegati al gradiente, tipo varianza del grad e grad stesso)\n",
    "\n",
    "I grafici uguali o no? Che differenza c'è tra # oracolo e # di iterazioni? (Loss disponibile solo a fine chiamate oracolo)\n",
    "\n",
    "I dataset: il primo ok, secondo stesso preprocessing ma abbiamo risultati diversi, il terzo non sappiamo cos'è e come si usa.\n",
    "\n"
   ]
  },
  {
   "cell_type": "code",
   "execution_count": 22,
   "metadata": {
    "scrolled": true
   },
   "outputs": [
    {
     "name": "stdout",
     "output_type": "stream",
     "text": [
      "Loss evaluation at time 1:\t343218.6203\n",
      "\n",
      "57\n",
      "Loss evaluation at time 2:\t60852.1867\n",
      "\n",
      "171\n",
      "Loss evaluation at time 3:\t21546.1982\n",
      "\n",
      "342\n",
      "Loss evaluation at time 4:\t10174.2399\n",
      "\n",
      "570\n",
      "Loss evaluation at time 5:\t5634.6010\n",
      "\n",
      "855\n",
      "Loss evaluation at time 6:\t199.7743\n",
      "\n",
      "1197\n",
      "Loss evaluation at time 7:\t3182.5927\n",
      "\n",
      "1596\n",
      "Loss evaluation at time 8:\t967.1668\n",
      "\n",
      "2052\n",
      "Loss evaluation at time 9:\t2234.7473\n",
      "\n",
      "2565\n",
      "Loss evaluation at time 10:\t1091.7662\n",
      "\n",
      "3135\n",
      "Loss evaluation at time 11:\t935.3902\n",
      "\n",
      "3762\n",
      "Loss evaluation at time 12:\t1803.3786\n",
      "\n",
      "4446\n"
     ]
    },
    {
     "ename": "KeyboardInterrupt",
     "evalue": "",
     "output_type": "error",
     "traceback": [
      "\u001b[0;31m---------------------------------------------------------------------------\u001b[0m",
      "\u001b[0;31mKeyboardInterrupt\u001b[0m                         Traceback (most recent call last)",
      "\u001b[0;32m<timed exec>\u001b[0m in \u001b[0;36m<module>\u001b[0;34m\u001b[0m\n",
      "\u001b[0;32m<ipython-input-21-3dca07a451d7>\u001b[0m in \u001b[0;36mIZFW\u001b[0;34m(F, d, w0, L, B, r, T, eps)\u001b[0m\n\u001b[1;32m     56\u001b[0m     \u001b[0;32mfor\u001b[0m \u001b[0mt\u001b[0m \u001b[0;32min\u001b[0m \u001b[0mrange\u001b[0m\u001b[0;34m(\u001b[0m\u001b[0;36m1\u001b[0m\u001b[0;34m,\u001b[0m \u001b[0mT\u001b[0m\u001b[0;34m+\u001b[0m\u001b[0;36m1\u001b[0m\u001b[0;34m)\u001b[0m\u001b[0;34m:\u001b[0m\u001b[0;34m\u001b[0m\u001b[0;34m\u001b[0m\u001b[0m\n\u001b[1;32m     57\u001b[0m         \u001b[0mdt\u001b[0m \u001b[0;34m=\u001b[0m \u001b[0;34m(\u001b[0m\u001b[0;36m1\u001b[0m\u001b[0;34m-\u001b[0m\u001b[0malpha\u001b[0m\u001b[0;34m(\u001b[0m\u001b[0mt\u001b[0m\u001b[0;34m)\u001b[0m\u001b[0;34m)\u001b[0m \u001b[0;34m*\u001b[0m \u001b[0mw\u001b[0m \u001b[0;34m+\u001b[0m \u001b[0malpha\u001b[0m\u001b[0;34m(\u001b[0m\u001b[0mt\u001b[0m\u001b[0;34m)\u001b[0m \u001b[0;34m*\u001b[0m \u001b[0mv\u001b[0m\u001b[0;34m\u001b[0m\u001b[0;34m\u001b[0m\u001b[0m\n\u001b[0;32m---> 58\u001b[0;31m         \u001b[0mg\u001b[0m \u001b[0;34m=\u001b[0m \u001b[0mIRDSA\u001b[0m\u001b[0;34m(\u001b[0m\u001b[0mF\u001b[0m\u001b[0;34m,\u001b[0m \u001b[0mdt\u001b[0m\u001b[0;34m,\u001b[0m \u001b[0mint\u001b[0m\u001b[0;34m(\u001b[0m\u001b[0mnp\u001b[0m\u001b[0;34m.\u001b[0m\u001b[0mceil\u001b[0m\u001b[0;34m(\u001b[0m\u001b[0mm\u001b[0m\u001b[0;34m(\u001b[0m\u001b[0mt\u001b[0m\u001b[0;34m)\u001b[0m\u001b[0;34m)\u001b[0m\u001b[0;34m)\u001b[0m\u001b[0;34m,\u001b[0m \u001b[0mc\u001b[0m\u001b[0;34m,\u001b[0m \u001b[0md\u001b[0m\u001b[0;34m)\u001b[0m\u001b[0;34m\u001b[0m\u001b[0;34m\u001b[0m\u001b[0m\n\u001b[0m\u001b[1;32m     59\u001b[0m         \u001b[0mv\u001b[0m \u001b[0;34m=\u001b[0m \u001b[0mInexactUpdate\u001b[0m\u001b[0;34m(\u001b[0m\u001b[0mg\u001b[0m\u001b[0;34m,\u001b[0m \u001b[0md\u001b[0m\u001b[0;34m,\u001b[0m \u001b[0mv\u001b[0m\u001b[0;34m,\u001b[0m \u001b[0mr\u001b[0m\u001b[0;34m,\u001b[0m \u001b[0mgamma\u001b[0m\u001b[0;34m(\u001b[0m\u001b[0mt\u001b[0m\u001b[0;34m)\u001b[0m\u001b[0;34m,\u001b[0m \u001b[0mmu\u001b[0m\u001b[0;34m(\u001b[0m\u001b[0mt\u001b[0m\u001b[0;34m)\u001b[0m\u001b[0;34m)\u001b[0m \u001b[0;31m#ICG\u001b[0m\u001b[0;34m\u001b[0m\u001b[0;34m\u001b[0m\u001b[0m\n\u001b[1;32m     60\u001b[0m         \u001b[0mw_pred\u001b[0m \u001b[0;34m=\u001b[0m \u001b[0mw\u001b[0m\u001b[0;34m\u001b[0m\u001b[0;34m\u001b[0m\u001b[0m\n",
      "\u001b[0;32m<ipython-input-2-ec57065f0da8>\u001b[0m in \u001b[0;36mIRDSA\u001b[0;34m(F, w, m, c, d)\u001b[0m\n\u001b[1;32m     41\u001b[0m     \u001b[0mz\u001b[0m \u001b[0;34m=\u001b[0m \u001b[0mnp\u001b[0m\u001b[0;34m.\u001b[0m\u001b[0mrandom\u001b[0m\u001b[0;34m.\u001b[0m\u001b[0mnormal\u001b[0m\u001b[0;34m(\u001b[0m\u001b[0;36m0\u001b[0m\u001b[0;34m,\u001b[0m \u001b[0;36m1\u001b[0m\u001b[0;34m,\u001b[0m \u001b[0;34m(\u001b[0m\u001b[0md\u001b[0m\u001b[0;34m,\u001b[0m \u001b[0mm\u001b[0m\u001b[0;34m)\u001b[0m\u001b[0;34m)\u001b[0m\u001b[0;34m\u001b[0m\u001b[0;34m\u001b[0m\u001b[0m\n\u001b[1;32m     42\u001b[0m     \u001b[0mF_w\u001b[0m \u001b[0;34m=\u001b[0m \u001b[0mF\u001b[0m\u001b[0;34m(\u001b[0m\u001b[0mw\u001b[0m\u001b[0;34m)\u001b[0m\u001b[0;34m\u001b[0m\u001b[0;34m\u001b[0m\u001b[0m\n\u001b[0;32m---> 43\u001b[0;31m     \u001b[0;32mreturn\u001b[0m \u001b[0mnp\u001b[0m\u001b[0;34m.\u001b[0m\u001b[0mmean\u001b[0m\u001b[0;34m(\u001b[0m\u001b[0;34m[\u001b[0m\u001b[0;34m(\u001b[0m\u001b[0mF\u001b[0m\u001b[0;34m(\u001b[0m\u001b[0mw\u001b[0m \u001b[0;34m+\u001b[0m \u001b[0mc\u001b[0m \u001b[0;34m*\u001b[0m \u001b[0mz\u001b[0m\u001b[0;34m[\u001b[0m\u001b[0;34m:\u001b[0m\u001b[0;34m,\u001b[0m\u001b[0mi\u001b[0m\u001b[0;34m]\u001b[0m\u001b[0;34m)\u001b[0m \u001b[0;34m-\u001b[0m \u001b[0mF_w\u001b[0m\u001b[0;34m)\u001b[0m \u001b[0;34m/\u001b[0m \u001b[0mc\u001b[0m \u001b[0;34m*\u001b[0m \u001b[0mz\u001b[0m\u001b[0;34m[\u001b[0m\u001b[0;34m:\u001b[0m\u001b[0;34m,\u001b[0m\u001b[0mi\u001b[0m\u001b[0;34m]\u001b[0m \u001b[0;32mfor\u001b[0m \u001b[0mi\u001b[0m \u001b[0;32min\u001b[0m \u001b[0mrange\u001b[0m\u001b[0;34m(\u001b[0m\u001b[0mm\u001b[0m\u001b[0;34m)\u001b[0m\u001b[0;34m]\u001b[0m\u001b[0;34m,\u001b[0m \u001b[0maxis\u001b[0m \u001b[0;34m=\u001b[0m \u001b[0;36m0\u001b[0m\u001b[0;34m)\u001b[0m\u001b[0;34m\u001b[0m\u001b[0;34m\u001b[0m\u001b[0m\n\u001b[0m\u001b[1;32m     44\u001b[0m \u001b[0;34m\u001b[0m\u001b[0m\n\u001b[1;32m     45\u001b[0m \u001b[0;34m\u001b[0m\u001b[0m\n",
      "\u001b[0;32m<ipython-input-2-ec57065f0da8>\u001b[0m in \u001b[0;36m<listcomp>\u001b[0;34m(.0)\u001b[0m\n\u001b[1;32m     41\u001b[0m     \u001b[0mz\u001b[0m \u001b[0;34m=\u001b[0m \u001b[0mnp\u001b[0m\u001b[0;34m.\u001b[0m\u001b[0mrandom\u001b[0m\u001b[0;34m.\u001b[0m\u001b[0mnormal\u001b[0m\u001b[0;34m(\u001b[0m\u001b[0;36m0\u001b[0m\u001b[0;34m,\u001b[0m \u001b[0;36m1\u001b[0m\u001b[0;34m,\u001b[0m \u001b[0;34m(\u001b[0m\u001b[0md\u001b[0m\u001b[0;34m,\u001b[0m \u001b[0mm\u001b[0m\u001b[0;34m)\u001b[0m\u001b[0;34m)\u001b[0m\u001b[0;34m\u001b[0m\u001b[0;34m\u001b[0m\u001b[0m\n\u001b[1;32m     42\u001b[0m     \u001b[0mF_w\u001b[0m \u001b[0;34m=\u001b[0m \u001b[0mF\u001b[0m\u001b[0;34m(\u001b[0m\u001b[0mw\u001b[0m\u001b[0;34m)\u001b[0m\u001b[0;34m\u001b[0m\u001b[0;34m\u001b[0m\u001b[0m\n\u001b[0;32m---> 43\u001b[0;31m     \u001b[0;32mreturn\u001b[0m \u001b[0mnp\u001b[0m\u001b[0;34m.\u001b[0m\u001b[0mmean\u001b[0m\u001b[0;34m(\u001b[0m\u001b[0;34m[\u001b[0m\u001b[0;34m(\u001b[0m\u001b[0mF\u001b[0m\u001b[0;34m(\u001b[0m\u001b[0mw\u001b[0m \u001b[0;34m+\u001b[0m \u001b[0mc\u001b[0m \u001b[0;34m*\u001b[0m \u001b[0mz\u001b[0m\u001b[0;34m[\u001b[0m\u001b[0;34m:\u001b[0m\u001b[0;34m,\u001b[0m\u001b[0mi\u001b[0m\u001b[0;34m]\u001b[0m\u001b[0;34m)\u001b[0m \u001b[0;34m-\u001b[0m \u001b[0mF_w\u001b[0m\u001b[0;34m)\u001b[0m \u001b[0;34m/\u001b[0m \u001b[0mc\u001b[0m \u001b[0;34m*\u001b[0m \u001b[0mz\u001b[0m\u001b[0;34m[\u001b[0m\u001b[0;34m:\u001b[0m\u001b[0;34m,\u001b[0m\u001b[0mi\u001b[0m\u001b[0;34m]\u001b[0m \u001b[0;32mfor\u001b[0m \u001b[0mi\u001b[0m \u001b[0;32min\u001b[0m \u001b[0mrange\u001b[0m\u001b[0;34m(\u001b[0m\u001b[0mm\u001b[0m\u001b[0;34m)\u001b[0m\u001b[0;34m]\u001b[0m\u001b[0;34m,\u001b[0m \u001b[0maxis\u001b[0m \u001b[0;34m=\u001b[0m \u001b[0;36m0\u001b[0m\u001b[0;34m)\u001b[0m\u001b[0;34m\u001b[0m\u001b[0;34m\u001b[0m\u001b[0m\n\u001b[0m\u001b[1;32m     44\u001b[0m \u001b[0;34m\u001b[0m\u001b[0m\n\u001b[1;32m     45\u001b[0m \u001b[0;34m\u001b[0m\u001b[0m\n",
      "\u001b[0;32m<ipython-input-6-af15dedb837a>\u001b[0m in \u001b[0;36m<lambda>\u001b[0;34m(w)\u001b[0m\n\u001b[1;32m      1\u001b[0m \u001b[0;31m# define the objective function\u001b[0m\u001b[0;34m\u001b[0m\u001b[0;34m\u001b[0m\u001b[0;34m\u001b[0m\u001b[0m\n\u001b[0;32m----> 2\u001b[0;31m \u001b[0mF\u001b[0m \u001b[0;34m=\u001b[0m \u001b[0;32mlambda\u001b[0m \u001b[0mw\u001b[0m\u001b[0;34m:\u001b[0m \u001b[0;36m0.5\u001b[0m \u001b[0;34m*\u001b[0m \u001b[0mnp\u001b[0m\u001b[0;34m.\u001b[0m\u001b[0msum\u001b[0m\u001b[0;34m(\u001b[0m\u001b[0mnp\u001b[0m\u001b[0;34m.\u001b[0m\u001b[0mpower\u001b[0m\u001b[0;34m(\u001b[0m\u001b[0my\u001b[0m \u001b[0;34m-\u001b[0m \u001b[0mX\u001b[0m \u001b[0;34m@\u001b[0m \u001b[0mw\u001b[0m\u001b[0;34m,\u001b[0m \u001b[0;36m2\u001b[0m\u001b[0;34m)\u001b[0m\u001b[0;34m)\u001b[0m\u001b[0;34m\u001b[0m\u001b[0;34m\u001b[0m\u001b[0m\n\u001b[0m",
      "\u001b[0;31mKeyboardInterrupt\u001b[0m: "
     ]
    }
   ],
   "source": [
    "%%time\n",
    "fpred, f, w, mean, t, loss = IZFW(F, d, w0, L, B, r = 1, T = 100, eps = 1e-3)"
   ]
  },
  {
   "cell_type": "code",
   "execution_count": 23,
   "metadata": {},
   "outputs": [
    {
     "data": {
      "text/plain": [
       "[<matplotlib.lines.Line2D at 0x7fb6ef864710>]"
      ]
     },
     "execution_count": 23,
     "metadata": {},
     "output_type": "execute_result"
    },
    {
     "data": {
      "image/png": "[encoded data removed]",
      "text/plain": [
       "<Figure size 432x288 with 1 Axes>"
      ]
     },
     "metadata": {
      "needs_background": "light"
     },
     "output_type": "display_data"
    }
   ],
   "source": [
    "plt.plot(loss)"
   ]
  },
  {
   "cell_type": "code",
   "execution_count": 24,
   "metadata": {},
   "outputs": [
    {
     "name": "stdout",
     "output_type": "stream",
     "text": [
      "OUTPUT:\n",
      "\n",
      "F(w_pred) = 197914.107239128\n",
      "\n",
      "F(w) = 197869.3747248715\n",
      "\n",
      "w = [2.34933557e-02 4.02983567e-06 3.08795393e-08 3.61756009e-06\n",
      " 3.69130200e-03 1.33729259e-06 4.01673147e-01 5.04176608e-01\n",
      " 4.69849198e-02 2.87166285e-06 1.98059062e-02 8.70501166e-07\n",
      " 1.45329881e-06 2.60587958e-06 2.46921740e-06 4.83692308e-06\n",
      " 3.96307199e-06 5.32262194e-08 1.63464558e-06 1.77673727e-06\n",
      " 4.14304857e-06 3.51816278e-06 4.02127965e-06 4.21880637e-07\n",
      " 4.91732298e-06 4.98055814e-06 3.62418132e-06 8.70545149e-07\n",
      " 2.30748277e-06 1.89517021e-06 4.86767458e-06 8.97616203e-07\n",
      " 4.09760962e-06 2.50305167e-06 9.36964163e-07 1.58319234e-06\n",
      " 3.75474925e-06 4.66322230e-07 2.68929516e-06 5.09959305e-07\n",
      " 4.26252570e-06 4.95833253e-06 2.29084708e-06 1.23152751e-06\n",
      " 1.08541133e-06 4.25249003e-06 3.62232723e-06 4.27706155e-06\n",
      " 2.70622791e-06 2.62828100e-07 8.66572037e-07 1.18812470e-06\n",
      " 2.15455175e-06 4.23199472e-06]\n",
      "\n",
      "average w = [5.64144616e-02 2.03506701e-04 1.55941674e-06 1.82686785e-04\n",
      " 1.64107509e-02 6.75332759e-05 4.14493922e-01 4.50918711e-01\n",
      " 3.27384495e-02 1.45018974e-04 2.01982629e-02 4.39603089e-05\n",
      " 7.33915900e-05 1.31596919e-04 1.24695479e-04 2.44264616e-04\n",
      " 2.00135135e-04 2.68792408e-06 8.25496016e-05 8.97252321e-05\n",
      " 2.09223953e-04 1.77667220e-04 2.03074622e-04 2.13049722e-05\n",
      " 2.48324811e-04 2.51518186e-04 1.83021157e-04 4.39625300e-05\n",
      " 1.16527880e-04 9.57060956e-05 2.45817567e-04 4.53296183e-05\n",
      " 2.06929286e-04 1.26404109e-04 4.73166902e-05 7.99512133e-05\n",
      " 1.89614837e-04 2.35492726e-05 1.35809405e-04 2.57529449e-05\n",
      " 2.15257548e-04 2.50395793e-04 1.15687778e-04 6.21921392e-05\n",
      " 5.48132723e-05 2.14750747e-04 1.82927525e-04 2.15991608e-04\n",
      " 1.36664510e-04 1.32728190e-05 4.37618879e-05 6.00002974e-05\n",
      " 1.08804863e-04 2.13715733e-04]\n",
      "\n",
      "T = 100\n"
     ]
    }
   ],
   "source": [
    "print(f'OUTPUT:\\n\\nF(w_pred) = {fpred}\\n\\nF(w) = {f}\\n\\nw = {w}\\n\\naverage w = {mean}\\n\\nT = {t}')# m=6, T=1000"
   ]
  },
  {
   "cell_type": "code",
   "execution_count": 61,
   "metadata": {},
   "outputs": [
    {
     "name": "stdout",
     "output_type": "stream",
     "text": [
      "OUTPUT:\n",
      "\n",
      "F(w_pred) = 198152.00822366346\n",
      "\n",
      "F(w) = 198018.65622128965\n",
      "\n",
      "w = [4.47739238e-02 1.14471662e-03 4.80743181e-09 5.63194071e-07\n",
      " 4.20009460e-07 2.08194264e-07 3.76933956e-01 5.25665416e-01\n",
      " 2.27723602e-02 4.47070249e-07 2.64906774e-02 1.35522585e-07\n",
      " 2.20039787e-03 4.05692205e-07 3.84416172e-07 7.53028653e-07\n",
      " 6.16984540e-07 8.28643904e-09 2.54487188e-07 2.76608507e-07\n",
      " 6.45003906e-07 5.47719559e-07 6.26046507e-07 6.56798139e-08\n",
      " 7.65545583e-07 7.75390248e-07 5.64224887e-07 1.35529433e-07\n",
      " 3.59236773e-07 2.95046551e-07 7.57816151e-07 1.39743946e-07\n",
      " 6.37929816e-07 3.89683605e-07 1.45869771e-07 2.46476774e-07\n",
      " 5.84552147e-07 7.25986323e-08 4.18678626e-07 7.93922008e-08\n",
      " 6.63604513e-07 7.71930090e-07 3.56646873e-07 1.91728395e-07\n",
      " 1.68980532e-07 6.62042126e-07 5.63936236e-07 6.65867503e-07\n",
      " 4.21314775e-07 4.09179734e-08 1.34910885e-07 1.84971298e-07\n",
      " 3.35427952e-07 6.58851346e-07]\n",
      "\n",
      "average w = [2.18088624e-02 5.61318427e-03 7.23518488e-07 8.47607077e-05\n",
      " 6.32114238e-05 3.13332367e-05 3.41893760e-01 5.85978471e-01\n",
      " 2.39068738e-02 6.72840725e-05 1.35136211e-02 2.03961491e-05\n",
      " 4.49321245e-03 6.10566769e-05 5.78546338e-05 1.13330812e-04\n",
      " 9.28561732e-05 1.24710908e-06 3.83003219e-05 4.16295803e-05\n",
      " 9.70730878e-05 8.24317936e-05 9.42199993e-05 9.88481199e-06\n",
      " 1.15214610e-04 1.16696232e-04 8.49158455e-05 2.03971796e-05\n",
      " 5.40651343e-05 4.44045059e-05 1.14051331e-04 2.10314639e-05\n",
      " 9.60084372e-05 5.86473826e-05 2.19534005e-05 3.70947545e-05\n",
      " 8.79750981e-05 1.09260942e-05 6.30111331e-05 1.19485262e-05\n",
      " 9.98724792e-05 1.16175478e-04 5.36753544e-05 2.88551235e-05\n",
      " 2.54315700e-05 9.96373400e-05 8.48724035e-05 1.00213059e-04\n",
      " 6.34078736e-05 6.15815500e-06 2.03040882e-05 2.78381804e-05\n",
      " 5.04819067e-05 9.91571276e-05]\n",
      "\n",
      "T = 300\n"
     ]
    }
   ],
   "source": [
    "print(f'OUTPUT:\\n\\nF(w_pred) = {fpred}\\n\\nF(w) = {f}\\n\\nw = {w}\\n\\naverage w = {mean}\\n\\nT = {t}')#100"
   ]
  },
  {
   "cell_type": "code",
   "execution_count": 148,
   "metadata": {},
   "outputs": [],
   "source": [
    "lossd = np.load(\"../Data/results/loss_dZFW_lasso.npy\")\n",
    "f_d = np.load(\"../Data/results/function_dZFW_lasso.npy\")\n",
    "f_d = f_d/n"
   ]
  },
  {
   "cell_type": "code",
   "execution_count": 149,
   "metadata": {},
   "outputs": [],
   "source": [
    "f_star = 0.30945146089466885"
   ]
  },
  {
   "cell_type": "code",
   "execution_count": 150,
   "metadata": {},
   "outputs": [
    {
     "data": {
      "image/png": "[encoded data removed]",
      "text/plain": [
       "<Figure size 432x288 with 1 Axes>"
      ]
     },
     "metadata": {
      "needs_background": "light"
     },
     "output_type": "display_data"
    }
   ],
   "source": [
    "F_eval = np.abs(f_d - f_star)\n",
    "plt.plot(F_eval[:-100])\n",
    "plt.yscale(\"log\")\n",
    "plt.title(\"dZFW\")\n",
    "plt.grid()"
   ]
  },
  {
   "cell_type": "code",
   "execution_count": 151,
   "metadata": {},
   "outputs": [],
   "source": [
    "loss_stochm6 = np.load(\"../Data/results/loss_SZFWm6_lasso.npy\")\n",
    "f_stochm6 = np.load(\"../Data/results/function_SZFWm6_lasso.npy\")\n",
    "f_stochm6 = f_stochm6/n"
   ]
  },
  {
   "cell_type": "code",
   "execution_count": 160,
   "metadata": {},
   "outputs": [
    {
     "data": {
      "image/png": "[encoded data removed]",
      "text/plain": [
       "<Figure size 432x288 with 1 Axes>"
      ]
     },
     "metadata": {
      "needs_background": "light"
     },
     "output_type": "display_data"
    }
   ],
   "source": [
    "plt.plot(loss_stochm6/n)\n",
    "plt.yscale(\"log\")\n",
    "plt.title(\"SZFW loss with m=6\")\n",
    "plt.grid()"
   ]
  },
  {
   "cell_type": "code",
   "execution_count": 152,
   "metadata": {},
   "outputs": [
    {
     "data": {
      "text/plain": [
       "0.30945146089466885"
      ]
     },
     "execution_count": 152,
     "metadata": {},
     "output_type": "execute_result"
    }
   ],
   "source": [
    "f_star"
   ]
  },
  {
   "cell_type": "code",
   "execution_count": 161,
   "metadata": {},
   "outputs": [],
   "source": [
    "f_star = np.min(f_stochm6)"
   ]
  },
  {
   "cell_type": "code",
   "execution_count": 162,
   "metadata": {},
   "outputs": [
    {
     "data": {
      "text/plain": [
       "1666.6666666666667"
      ]
     },
     "execution_count": 162,
     "metadata": {},
     "output_type": "execute_result"
    }
   ],
   "source": [
    "10000/6"
   ]
  },
  {
   "cell_type": "code",
   "execution_count": 164,
   "metadata": {},
   "outputs": [
    {
     "data": {
      "image/png": "[encoded data removed]",
      "text/plain": [
       "<Figure size 432x288 with 1 Axes>"
      ]
     },
     "metadata": {
      "needs_background": "light"
     },
     "output_type": "display_data"
    }
   ],
   "source": [
    "F_eval = np.abs(f_stochm6 - f_star)\n",
    "plt.plot(F_eval[:8000])\n",
    "plt.yscale(\"log\")\n",
    "plt.title(\"SZFW with m=6\")\n",
    "plt.grid()"
   ]
  },
  {
   "cell_type": "code",
   "execution_count": 137,
   "metadata": {},
   "outputs": [],
   "source": [
    "loss_stochm1 = np.load(\"../Data/results/loss_SZFWm1_lasso.npy\")\n",
    "f_stochm1 = np.load(\"../Data/results/function_SZFWm1_lasso.npy\")\n",
    "f_stochm1 = f_stochm1/n"
   ]
  },
  {
   "cell_type": "code",
   "execution_count": 138,
   "metadata": {},
   "outputs": [
    {
     "data": {
      "text/plain": [
       "0.31362871769382883"
      ]
     },
     "execution_count": 138,
     "metadata": {},
     "output_type": "execute_result"
    }
   ],
   "source": [
    "np.min(f_stochm1)"
   ]
  },
  {
   "cell_type": "code",
   "execution_count": 139,
   "metadata": {},
   "outputs": [
    {
     "data": {
      "image/png": "[encoded data removed]",
      "text/plain": [
       "<Figure size 432x288 with 1 Axes>"
      ]
     },
     "metadata": {
      "needs_background": "light"
     },
     "output_type": "display_data"
    }
   ],
   "source": [
    "F_eval = np.abs(f_stochm1 - f_star)\n",
    "plt.plot(F_eval)\n",
    "plt.yscale(\"log\")\n",
    "plt.title(\"SZFW with m=1\")\n",
    "plt.grid()"
   ]
  },
  {
   "cell_type": "code",
   "execution_count": 46,
   "metadata": {},
   "outputs": [],
   "source": [
    "a_ = X.toarray()"
   ]
  },
  {
   "cell_type": "code",
   "execution_count": 51,
   "metadata": {},
   "outputs": [
    {
     "data": {
      "text/plain": [
       "array([0., 0., 0., ..., 0., 0., 0.])"
      ]
     },
     "execution_count": 51,
     "metadata": {},
     "output_type": "execute_result"
    }
   ],
   "source": [
    "a_[:,52]"
   ]
  },
  {
   "cell_type": "code",
   "execution_count": null,
   "metadata": {},
   "outputs": [],
   "source": []
  }
 ],
 "metadata": {
  "kernelspec": {
   "display_name": "Python 3",
   "language": "python",
   "name": "python3"
  },
  "language_info": {
   "codemirror_mode": {
    "name": "ipython",
    "version": 3
   },
   "file_extension": ".py",
   "mimetype": "text/x-python",
   "name": "python",
   "nbconvert_exporter": "python",
   "pygments_lexer": "ipython3",
   "version": "3.7.4"
  }
 },
 "nbformat": 4,
 "nbformat_minor": 4
}
