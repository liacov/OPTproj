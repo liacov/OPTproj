{
 "cells": [
  {
   "cell_type": "code",
   "execution_count": 1,
   "metadata": {},
   "outputs": [],
   "source": [
    "import numpy as np\n",
    "import matplotlib.pyplot as plt\n",
    "\n",
    "from sklearn import datasets\n",
    "from scipy.sparse.linalg import norm"
   ]
  },
  {
   "cell_type": "code",
   "execution_count": 2,
   "metadata": {},
   "outputs": [],
   "source": [
    "import sys\n",
    "sys.path.insert(0, \"../scripts\")\n",
    "\n",
    "from SZFW_lasso import *\n",
    "from DZFW_lasso import *\n",
    "from IZFW_lasso import *"
   ]
  },
  {
   "cell_type": "markdown",
   "metadata": {},
   "source": [
    "## Load data"
   ]
  },
  {
   "cell_type": "code",
   "execution_count": 3,
   "metadata": {},
   "outputs": [],
   "source": [
    "# load data\n",
    "X, y = datasets.load_svmlight_file(\"../Data/covtype.libsvm.binary.scale.bz2\")"
   ]
  },
  {
   "cell_type": "code",
   "execution_count": 4,
   "metadata": {},
   "outputs": [
    {
     "name": "stdout",
     "output_type": "stream",
     "text": [
      "Space Dimensions\n",
      "d: 54\n",
      "n: 581012\n"
     ]
    }
   ],
   "source": [
    "# space dimension\n",
    "d = X.shape[1]\n",
    "n = y.shape[0]\n",
    "print(f\"Space Dimensions\\nd: {d}\")\n",
    "print(f\"n: {y.shape[0]}\")"
   ]
  },
  {
   "cell_type": "code",
   "execution_count": 5,
   "metadata": {},
   "outputs": [],
   "source": [
    "# define the objective function\n",
    "F = lambda w: 0.5/n * np.sum(np.power(y - X @ w, 2))"
   ]
  },
  {
   "cell_type": "code",
   "execution_count": 6,
   "metadata": {},
   "outputs": [
    {
     "name": "stdout",
     "output_type": "stream",
     "text": [
      "L: 3\n",
      "\n",
      "w0: [0.01427508 0.         0.00015906 0.         0.01389659 0.00688839\n",
      " 0.         0.         0.01932185 0.01479194 0.02022282 0.00448395\n",
      " 0.00748594 0.01342289 0.01271894 0.02491499 0.02041378 0.00027417\n",
      " 0.00842006 0.00915197 0.02134084 0.01812206 0.         0.00217311\n",
      " 0.02532913 0.         0.01866816 0.         0.         0.00976202\n",
      " 0.         0.         0.         0.         0.0048263  0.00815502\n",
      " 0.         0.00240203 0.01385256 0.0026268  0.02195627 0.02554037\n",
      " 0.         0.         0.00559095 0.02190458 0.01865861 0.\n",
      " 0.01393978 0.         0.00446371 0.00612003 0.0110981  0.021799  ]\n"
     ]
    }
   ],
   "source": [
    "# initialize prarameters for the algorithm (in common for all the algorithms)\n",
    "\n",
    "# stating point, sparse\n",
    "np.random.seed(1007)\n",
    "w0 = np.random.rand(d)\n",
    "w0 = w0/np.sum(w0) * np.random.rand(1)\n",
    "\n",
    "indeces = np.random.randint(low = 0, high = d-1, size = 20)\n",
    "w0[indeces] = int(0)\n",
    "print(f\"w0: {w0}\")"
   ]
  },
  {
   "cell_type": "markdown",
   "metadata": {},
   "source": [
    "## Deterministic Gradient Free Frank Wolfe"
   ]
  },
  {
   "cell_type": "code",
   "execution_count": 7,
   "metadata": {
    "scrolled": true
   },
   "outputs": [
    {
     "name": "stdout",
     "output_type": "stream",
     "text": [
      "Loss evaluation at time 1:\t0.6434678\n",
      "\n",
      "Loss evaluation at time 2:\t0.1126711\n",
      "\n",
      "Loss evaluation at time 3:\t0.0396705\n",
      "\n",
      "Loss evaluation at time 4:\t0.0186785\n",
      "\n",
      "Loss evaluation at time 5:\t0.0103272\n",
      "\n",
      "Loss evaluation at time 6:\t0.0063267\n",
      "\n",
      "Loss evaluation at time 7:\t0.0041631\n",
      "\n",
      "Loss evaluation at time 8:\t0.0028882\n",
      "\n",
      "Loss evaluation at time 9:\t0.0020870\n",
      "\n",
      "Loss evaluation at time 10:\t0.0015578\n",
      "\n",
      "Loss evaluation at time 11:\t0.0011940\n",
      "\n",
      "Loss evaluation at time 12:\t0.0009355\n",
      "\n",
      "Loss evaluation at time 13:\t0.0007467\n",
      "\n",
      "Loss evaluation at time 14:\t0.0006056\n",
      "\n",
      "Loss evaluation at time 15:\t0.0004980\n",
      "\n",
      "Loss evaluation at time 16:\t0.0004145\n",
      "\n",
      "Loss evaluation at time 17:\t0.0003487\n",
      "\n",
      "Loss evaluation at time 18:\t0.0002961\n",
      "\n",
      "Loss evaluation at time 19:\t0.0002536\n",
      "\n",
      "Loss evaluation at time 20:\t0.0002189\n",
      "\n",
      "Loss evaluation at time 21:\t0.0001902\n",
      "\n",
      "Loss evaluation at time 22:\t0.0001664\n",
      "\n",
      "Loss evaluation at time 23:\t0.0001464\n",
      "\n",
      "Loss evaluation at time 24:\t0.0001294\n",
      "\n",
      "Loss evaluation at time 25:\t0.0001150\n",
      "\n",
      "Loss evaluation at time 26:\t0.0001027\n",
      "\n",
      "Loss evaluation at time 27:\t0.0000920\n",
      "\n",
      "Loss evaluation at time 28:\t0.0000828\n",
      "\n",
      "Loss evaluation at time 29:\t0.0000748\n",
      "\n",
      "Loss evaluation at time 30:\t0.0000677\n",
      "\n",
      "Loss evaluation at time 31:\t0.0000616\n",
      "\n",
      "Loss evaluation at time 32:\t0.0000561\n",
      "\n",
      "Loss evaluation at time 33:\t0.0000513\n",
      "\n",
      "Loss evaluation at time 34:\t0.0000470\n",
      "\n",
      "Loss evaluation at time 35:\t0.0000432\n",
      "\n",
      "Loss evaluation at time 36:\t0.0000398\n",
      "\n",
      "Loss evaluation at time 37:\t0.0000367\n",
      "\n",
      "Loss evaluation at time 38:\t0.0000340\n",
      "\n",
      "Loss evaluation at time 39:\t0.0000315\n",
      "\n",
      "Loss evaluation at time 40:\t0.0000292\n",
      "\n",
      "Loss evaluation at time 41:\t0.0000272\n",
      "\n",
      "Loss evaluation at time 42:\t0.0000253\n",
      "\n",
      "Loss evaluation at time 43:\t0.0000236\n",
      "\n",
      "Loss evaluation at time 44:\t0.0000221\n",
      "\n",
      "Loss evaluation at time 45:\t0.0000207\n",
      "\n",
      "Loss evaluation at time 46:\t0.0000194\n",
      "\n",
      "Loss evaluation at time 47:\t0.0000182\n",
      "\n",
      "Loss evaluation at time 48:\t0.0000171\n",
      "\n",
      "Loss evaluation at time 49:\t0.0000161\n",
      "\n",
      "Loss evaluation at time 50:\t0.0000152\n",
      "\n",
      "Loss evaluation at time 51:\t0.0000143\n",
      "\n",
      "Loss evaluation at time 52:\t0.0000135\n",
      "\n",
      "Loss evaluation at time 53:\t0.0000128\n",
      "\n",
      "Loss evaluation at time 54:\t0.0000121\n",
      "\n",
      "Loss evaluation at time 55:\t0.0000115\n",
      "\n",
      "Loss evaluation at time 56:\t0.0000109\n",
      "\n",
      "Loss evaluation at time 57:\t0.0000103\n",
      "\n",
      "Loss evaluation at time 58:\t0.0000098\n",
      "\n",
      "CPU times: user 2min 49s, sys: 7.55 s, total: 2min 57s\n",
      "Wall time: 1min 33s\n"
     ]
    }
   ],
   "source": [
    "%%time\n",
    "\n",
    "# Lipschitz constant \n",
    "L = 3\n",
    "\n",
    "fpred, f, w, mean, t, loss, f_values = detZFW(F, L, d, w0, T=100)"
   ]
  },
  {
   "cell_type": "code",
   "execution_count": 9,
   "metadata": {},
   "outputs": [
    {
     "name": "stdout",
     "output_type": "stream",
     "text": [
      "OUTPUT:\n",
      "\n",
      "F(w0) = 1.1586989989974017\n",
      "\n",
      "F(w_pred) = 0.30946125867317376\n",
      "\n",
      "F(w) = 0.30945146089466885\n",
      "\n",
      "w = [8.06501705e-06 0.00000000e+00 8.98646933e-08 0.00000000e+00\n",
      " 7.85118183e-06 3.89174810e-06 0.00000000e+00 9.99435028e-01\n",
      " 1.09162988e-05 8.35702561e-06 1.14253214e-05 2.53330594e-06\n",
      " 4.22934586e-06 7.58355126e-06 7.18584115e-06 1.40762660e-05\n",
      " 1.15332112e-05 1.54897320e-07 4.75709568e-06 5.17060659e-06\n",
      " 1.20569735e-05 1.02384500e-05 0.00000000e+00 1.22774416e-06\n",
      " 1.43102433e-05 0.00000000e+00 1.05469819e-05 0.00000000e+00\n",
      " 0.00000000e+00 5.51526653e-06 0.00000000e+00 0.00000000e+00\n",
      " 0.00000000e+00 0.00000000e+00 2.72672452e-06 4.60735805e-06\n",
      " 0.00000000e+00 1.35707673e-06 7.82630471e-06 1.48406801e-06\n",
      " 1.24046722e-05 1.44295881e-05 0.00000000e+00 0.00000000e+00\n",
      " 3.15873095e-06 1.23754668e-05 1.05415862e-05 0.00000000e+00\n",
      " 7.87558191e-06 0.00000000e+00 2.52187150e-06 3.45764426e-06\n",
      " 6.27011077e-06 1.23158219e-05]\n",
      "\n",
      "average w = [1.37992442e-04 0.00000000e+00 1.53758490e-06 0.00000000e+00\n",
      " 1.34333721e-04 6.65878100e-05 0.00000000e+00 5.70333333e-01\n",
      " 1.86777872e-04 1.42988708e-04 1.95487248e-04 4.33448646e-05\n",
      " 7.23641077e-05 1.29754562e-04 1.22949742e-04 2.40844911e-04\n",
      " 1.97333244e-04 2.65029314e-06 8.13939072e-05 8.84690788e-05\n",
      " 2.06294817e-04 1.75179879e-04 0.00000000e+00 2.10067026e-05\n",
      " 2.44848263e-04 0.00000000e+00 1.80458861e-04 0.00000000e+00\n",
      " 0.00000000e+00 9.43662103e-05 0.00000000e+00 0.00000000e+00\n",
      " 0.00000000e+00 0.00000000e+00 4.66542566e-05 7.88318963e-05\n",
      " 0.00000000e+00 2.32195828e-05 1.33908074e-04 2.53924037e-05\n",
      " 2.12243942e-04 2.46890252e-04 0.00000000e+00 0.00000000e+00\n",
      " 5.40458865e-05 2.11744236e-04 1.80366540e-04 0.00000000e+00\n",
      " 1.34751206e-04 0.00000000e+00 4.31492214e-05 5.91602932e-05\n",
      " 1.07281595e-04 2.10723713e-04]\n",
      "\n",
      "T = 58\n"
     ]
    }
   ],
   "source": [
    "print(f'OUTPUT:\\n\\nF(w0) = {F(w0)}\\n\\nF(w_pred) = {fpred}\\n\\nF(w) = {f}\\n\\nw = {w}\\n\\naverage w = {mean}\\n\\nT = {t}')"
   ]
  },
  {
   "cell_type": "code",
   "execution_count": 10,
   "metadata": {},
   "outputs": [],
   "source": [
    "lossd = np.load(\"../Data/results/loss_dZFW_lasso.npy\") # data from colab (NOT NORMALIZED)\n",
    "f_d = np.load(\"../Data/results/function_dZFW_lasso.npy\")\n",
    "f_d = f_d/n\n",
    "f_star = np.min(f_d)"
   ]
  },
  {
   "cell_type": "code",
   "execution_count": 11,
   "metadata": {},
   "outputs": [
    {
     "data": {
      "image/png": "[encoded data removed]",
      "text/plain": [
       "<Figure size 432x288 with 1 Axes>"
      ]
     },
     "metadata": {
      "needs_background": "light"
     },
     "output_type": "display_data"
    }
   ],
   "source": [
    "F_eval = np.abs(f_d - f_star)\n",
    "plt.plot(F_eval)\n",
    "plt.yscale(\"log\")\n",
    "plt.title(\"dZFW\")\n",
    "plt.xlabel(\"# iterations\")\n",
    "plt.ylabel(\"|f-f*|\")\n",
    "plt.grid()"
   ]
  },
  {
   "cell_type": "markdown",
   "metadata": {},
   "source": [
    "## Stochastic Gradient Free Frank Wolfe"
   ]
  },
  {
   "cell_type": "code",
   "execution_count": 12,
   "metadata": {
    "scrolled": true
   },
   "outputs": [
    {
     "name": "stdout",
     "output_type": "stream",
     "text": [
      "Loss evaluation at time 1:\t0.0109030\n",
      "\n",
      "Loss evaluation at time 2:\t0.0166389\n",
      "\n",
      "Loss evaluation at time 3:\t0.2074434\n",
      "\n",
      "Loss evaluation at time 4:\t0.0721850\n",
      "\n",
      "Loss evaluation at time 5:\t0.0312891\n",
      "\n",
      "Loss evaluation at time 6:\t0.0997247\n",
      "\n",
      "Loss evaluation at time 7:\t0.0255838\n",
      "\n",
      "Loss evaluation at time 8:\t0.0472122\n",
      "\n",
      "Loss evaluation at time 9:\t0.0643322\n",
      "\n",
      "Loss evaluation at time 10:\t0.0509400\n",
      "\n",
      "Loss evaluation at time 11:\t0.0455933\n",
      "\n",
      "Loss evaluation at time 12:\t0.0027826\n",
      "\n",
      "Loss evaluation at time 13:\t0.0359570\n",
      "\n",
      "Loss evaluation at time 14:\t0.0262340\n",
      "\n",
      "Loss evaluation at time 15:\t0.0256478\n",
      "\n",
      "Loss evaluation at time 16:\t0.0185212\n",
      "\n",
      "Loss evaluation at time 17:\t0.0158879\n",
      "\n",
      "Loss evaluation at time 18:\t0.0137342\n",
      "\n",
      "Loss evaluation at time 19:\t0.0148630\n",
      "\n",
      "Loss evaluation at time 20:\t0.0129855\n",
      "\n",
      "Loss evaluation at time 21:\t0.0088704\n",
      "\n",
      "Loss evaluation at time 22:\t0.0103234\n",
      "\n",
      "Loss evaluation at time 23:\t0.0091657\n",
      "\n",
      "Loss evaluation at time 24:\t0.0059770\n",
      "\n",
      "Loss evaluation at time 25:\t0.0053577\n",
      "\n",
      "Loss evaluation at time 26:\t0.0048219\n",
      "\n",
      "Loss evaluation at time 27:\t0.0043560\n",
      "\n",
      "Loss evaluation at time 28:\t0.0059611\n",
      "\n",
      "Loss evaluation at time 29:\t0.0054096\n",
      "\n",
      "Loss evaluation at time 30:\t0.0049248\n",
      "\n",
      "Loss evaluation at time 31:\t0.0044968\n",
      "\n",
      "Loss evaluation at time 32:\t0.0041175\n",
      "\n",
      "Loss evaluation at time 33:\t0.0037801\n",
      "\n",
      "Loss evaluation at time 34:\t0.0034791\n",
      "\n",
      "Loss evaluation at time 35:\t0.0032095\n",
      "\n",
      "Loss evaluation at time 36:\t0.0029674\n",
      "\n",
      "Loss evaluation at time 37:\t0.0027493\n",
      "\n",
      "Loss evaluation at time 38:\t0.0025522\n",
      "\n",
      "Loss evaluation at time 39:\t0.0023738\n",
      "\n",
      "Loss evaluation at time 40:\t0.0022119\n",
      "\n",
      "Loss evaluation at time 41:\t0.0020644\n",
      "\n",
      "Loss evaluation at time 42:\t0.0019300\n",
      "\n",
      "Loss evaluation at time 43:\t0.0018071\n",
      "\n",
      "Loss evaluation at time 44:\t0.0016945\n",
      "\n",
      "Loss evaluation at time 45:\t0.0015912\n",
      "\n",
      "Loss evaluation at time 46:\t0.0014962\n",
      "\n",
      "Loss evaluation at time 47:\t0.0014087\n",
      "\n",
      "Loss evaluation at time 48:\t0.0013280\n",
      "\n",
      "Loss evaluation at time 49:\t0.0012533\n",
      "\n",
      "Loss evaluation at time 50:\t0.0011842\n",
      "\n",
      "Loss evaluation at time 51:\t0.0011202\n",
      "\n",
      "Loss evaluation at time 52:\t0.0010607\n",
      "\n",
      "Loss evaluation at time 53:\t0.0010054\n",
      "\n",
      "Loss evaluation at time 54:\t0.0009540\n",
      "\n",
      "Loss evaluation at time 55:\t0.0009060\n",
      "\n",
      "Loss evaluation at time 56:\t0.0008612\n",
      "\n",
      "Loss evaluation at time 57:\t0.0008193\n",
      "\n",
      "Loss evaluation at time 58:\t0.0007802\n",
      "\n",
      "Loss evaluation at time 59:\t0.0007435\n",
      "\n",
      "Loss evaluation at time 60:\t0.0007091\n",
      "\n",
      "Loss evaluation at time 61:\t0.0006768\n",
      "\n",
      "Loss evaluation at time 62:\t0.0006464\n",
      "\n",
      "Loss evaluation at time 63:\t0.0006179\n",
      "\n",
      "Loss evaluation at time 64:\t0.0005910\n",
      "\n",
      "Loss evaluation at time 65:\t0.0005657\n",
      "\n",
      "Loss evaluation at time 66:\t0.0005418\n",
      "\n",
      "Loss evaluation at time 67:\t0.0005192\n",
      "\n",
      "Loss evaluation at time 68:\t0.0004979\n",
      "\n",
      "Loss evaluation at time 69:\t0.0001640\n",
      "\n",
      "Loss evaluation at time 70:\t0.0001664\n",
      "\n",
      "Loss evaluation at time 71:\t0.0001682\n",
      "\n",
      "Loss evaluation at time 72:\t0.0004770\n",
      "\n",
      "Loss evaluation at time 73:\t0.0001772\n",
      "\n",
      "Loss evaluation at time 74:\t0.0001776\n",
      "\n",
      "Loss evaluation at time 75:\t0.0001775\n",
      "\n",
      "Loss evaluation at time 76:\t0.0004602\n",
      "\n",
      "Loss evaluation at time 77:\t0.0004430\n",
      "\n",
      "Loss evaluation at time 78:\t0.0001902\n",
      "\n",
      "Loss evaluation at time 79:\t0.0001891\n",
      "\n",
      "Loss evaluation at time 80:\t0.0001877\n",
      "\n",
      "Loss evaluation at time 81:\t0.0001861\n",
      "\n",
      "Loss evaluation at time 82:\t0.0001843\n",
      "\n",
      "Loss evaluation at time 83:\t0.0001823\n",
      "\n",
      "Loss evaluation at time 84:\t0.0001803\n",
      "\n",
      "Loss evaluation at time 85:\t0.0001780\n",
      "\n",
      "Loss evaluation at time 86:\t0.0001757\n",
      "\n",
      "Loss evaluation at time 87:\t0.0001734\n",
      "\n",
      "Loss evaluation at time 88:\t0.0001709\n",
      "\n",
      "Loss evaluation at time 89:\t0.0001684\n",
      "\n",
      "Loss evaluation at time 90:\t0.0001659\n",
      "\n",
      "Loss evaluation at time 91:\t0.0001633\n",
      "\n",
      "Loss evaluation at time 92:\t0.0001608\n",
      "\n",
      "Loss evaluation at time 93:\t0.0001582\n",
      "\n",
      "Loss evaluation at time 94:\t0.0001556\n",
      "\n",
      "Loss evaluation at time 95:\t0.0001530\n",
      "\n",
      "Loss evaluation at time 96:\t0.0001504\n",
      "\n",
      "Loss evaluation at time 97:\t0.0001478\n",
      "\n",
      "Loss evaluation at time 98:\t0.0001453\n",
      "\n",
      "Loss evaluation at time 99:\t0.0001428\n",
      "\n",
      "Loss evaluation at time 100:\t0.0001402\n",
      "\n",
      "CPU times: user 52.2 s, sys: 2.71 s, total: 54.9 s\n",
      "Wall time: 31.3 s\n"
     ]
    }
   ],
   "source": [
    "%%time\n",
    "fpred, f, w, mean, t, loss, f_values = stochasticZFW(F, d, w0, method = \"IRDSA\", r=1, T=100, eps=1e-5)"
   ]
  },
  {
   "cell_type": "code",
   "execution_count": 13,
   "metadata": {},
   "outputs": [
    {
     "name": "stdout",
     "output_type": "stream",
     "text": [
      "OUTPUT:\n",
      "\n",
      "F(w0) = 0.3305297578114198\n",
      "\n",
      "F(w_pred) = 0.33038951584565174\n",
      "\n",
      "F(w) = 0.3305297578114198\n",
      "\n",
      "w = [ 4.39593324e-03  2.07684320e-03  7.70802042e-07  0.00000000e+00\n",
      "  6.73424319e-05  3.33809339e-05  5.13326411e-01  4.66597439e-01\n",
      "  9.36330510e-05  7.16812373e-05  3.38633419e-03  2.17290831e-05\n",
      "  3.62766322e-05  6.50468675e-05  6.16355638e-05  1.20737235e-04\n",
      "  9.89245322e-05  1.32861045e-06  4.08033337e-05  4.43501666e-05\n",
      "  1.03417032e-04  8.78188960e-05  0.00000000e+00  2.60658480e-03\n",
      "  1.22744143e-04  0.00000000e+00  9.04652863e-05  0.00000000e+00\n",
      "  0.00000000e+00  4.73064398e-05  0.00000000e+00  0.00000000e+00\n",
      "  0.00000000e+00  0.00000000e+00  2.33881044e-05  3.95189798e-05\n",
      "  1.38456213e-03  1.16401389e-05  6.71290519e-05  1.27293892e-05\n",
      " -1.45123303e-03  1.23767806e-04  0.00000000e+00  0.00000000e+00\n",
      "  2.70935801e-05  1.06148863e-04  9.04190052e-05  0.00000000e+00\n",
      "  6.75517202e-05  0.00000000e+00  2.16310058e-05  2.96574679e-05\n",
      "  5.37810124e-05  1.05637268e-04]\n",
      "\n",
      "average w = [ 3.62956070e-02  1.77777778e-02  1.03094773e-05  0.00000000e+00\n",
      "  9.00705027e-04  4.46469991e-04  2.50740741e-01  5.60740741e-01\n",
      "  1.25234206e-03  9.58736549e-04  1.77922197e-02  2.90626487e-04\n",
      "  4.85199956e-04  8.70001853e-04  8.24375666e-04  1.61486052e-03\n",
      "  1.32311562e-03  1.77701647e-05  5.45744588e-04  5.93183479e-04\n",
      "  1.38320280e-03  1.17457773e-03  0.00000000e+00  1.73630718e-02\n",
      "  1.64170291e-03  0.00000000e+00  1.20997320e-03  0.00000000e+00\n",
      "  0.00000000e+00  6.32723632e-04  0.00000000e+00  0.00000000e+00\n",
      "  0.00000000e+00  0.00000000e+00  3.12815897e-04  5.28566354e-04\n",
      "  1.85185185e-02  1.55686858e-04  8.97851069e-04  1.70255580e-04\n",
      " -1.69102418e-02  1.65539441e-03  0.00000000e+00  0.00000000e+00\n",
      "  3.62376634e-04  1.41974105e-03  1.20935420e-03  0.00000000e+00\n",
      "  9.03504258e-04  0.00000000e+00  2.89314703e-04  3.96668633e-04\n",
      "  7.19321041e-04  1.41289846e-03]\n",
      "\n",
      "T = 100\n"
     ]
    }
   ],
   "source": [
    "print(f'OUTPUT:\\n\\nF(w0) = {f}\\n\\nF(w_pred) = {fpred}\\n\\nF(w) = {f}\\n\\nw = {w}\\n\\naverage w = {mean}\\n\\nT = {t}')"
   ]
  },
  {
   "cell_type": "code",
   "execution_count": 14,
   "metadata": {},
   "outputs": [],
   "source": [
    "loss_stochm6 = np.load(\"../Data/results/loss_SZFWm6_lasso.npy\") # data from colab (NOT NORMALIZED)\n",
    "f_stochm6 = np.load(\"../Data/results/function_SZFWm6_lasso.npy\")\n",
    "f_stochm6 = f_stochm6/n"
   ]
  },
  {
   "cell_type": "code",
   "execution_count": 15,
   "metadata": {},
   "outputs": [
    {
     "data": {
      "image/png": "[encoded data removed]",
      "text/plain": [
       "<Figure size 432x288 with 1 Axes>"
      ]
     },
     "metadata": {
      "needs_background": "light"
     },
     "output_type": "display_data"
    }
   ],
   "source": [
    "F_eval = np.abs(f_stochm6 - f_star)\n",
    "plt.plot(F_eval)\n",
    "plt.yscale(\"log\")\n",
    "plt.title(\"sZFW with IRDSA (m=6)\")\n",
    "plt.xlabel(\"# iterations\")\n",
    "plt.ylabel(\"|f-f*|\")\n",
    "plt.grid()"
   ]
  },
  {
   "cell_type": "code",
   "execution_count": 16,
   "metadata": {},
   "outputs": [],
   "source": [
    "loss_stochm1 = np.load(\"../Data/results/loss_SZFWm1_lasso.npy\") # data from colab (NOT NORMALIZED)\n",
    "f_stochm1 = np.load(\"../Data/results/function_SZFWm1_lasso.npy\")\n",
    "f_stochm1 = f_stochm1/n"
   ]
  },
  {
   "cell_type": "code",
   "execution_count": 17,
   "metadata": {},
   "outputs": [
    {
     "data": {
      "image/png": "[encoded data removed]",
      "text/plain": [
       "<Figure size 432x288 with 1 Axes>"
      ]
     },
     "metadata": {
      "needs_background": "light"
     },
     "output_type": "display_data"
    }
   ],
   "source": [
    "F_eval = np.abs(f_stochm6 - f_star)\n",
    "plt.plot(F_eval)\n",
    "plt.yscale(\"log\")\n",
    "plt.title(\"sZFW with RDSA (m=1)\")\n",
    "plt.xlabel(\"# iterations\")\n",
    "plt.ylabel(\"|f-f*|\")\n",
    "plt.grid()"
   ]
  },
  {
   "cell_type": "markdown",
   "metadata": {},
   "source": [
    "## Zeroth order stochastic accelerated gradient method with Inexact updates"
   ]
  },
  {
   "cell_type": "code",
   "execution_count": 26,
   "metadata": {
    "scrolled": true
   },
   "outputs": [
    {
     "name": "stdout",
     "output_type": "stream",
     "text": [
      "Loss evaluation at time 1:\t0.5551388\n",
      "\n",
      "Loss evaluation at time 2:\t0.1594307\n",
      "\n",
      "Loss evaluation at time 3:\t0.0591694\n",
      "\n",
      "Loss evaluation at time 4:\t0.0254504\n",
      "\n",
      "Loss evaluation at time 5:\t0.0151612\n",
      "\n",
      "Loss evaluation at time 6:\t0.0091598\n",
      "\n",
      "Loss evaluation at time 7:\t0.0059715\n",
      "\n",
      "Loss evaluation at time 8:\t0.0041158\n",
      "\n",
      "Loss evaluation at time 9:\t0.0029601\n",
      "\n",
      "Loss evaluation at time 10:\t0.0000698\n",
      "\n",
      "CPU times: user 10min 14s, sys: 2min 3s, total: 12min 17s\n",
      "Wall time: 6min 19s\n"
     ]
    }
   ],
   "source": [
    "%%time \n",
    "\n",
    "# setting parameters\n",
    "L = 0.1\n",
    "D = 10000 # we will start from m = 6, up to T * (T+1) / D * (d+3) = 28785 (for T=100)\n",
    "B = 1\n",
    "\n",
    "fpred, f, w, mean, t, loss, f_values = IZFW(F, d, w0, L, B, r = 1, T = 10, eps = 1e-3)"
   ]
  },
  {
   "cell_type": "code",
   "execution_count": 27,
   "metadata": {},
   "outputs": [
    {
     "name": "stdout",
     "output_type": "stream",
     "text": [
      "OUTPUT:\n",
      "\n",
      "F(w_pred) = 0.32214128882503373\n",
      "\n",
      "F(w) = 0.3222110957810947\n",
      "\n",
      "w = [2.16289094e-04 0.00000000e+00 2.41000768e-06 0.00000000e+00\n",
      " 2.10554422e-04 1.04369608e-04 1.26046176e-01 8.48701299e-01\n",
      " 2.92755286e-04 2.24120232e-04 1.04074164e-02 6.79386592e-05\n",
      " 1.13423366e-04 2.03377057e-04 1.92711195e-04 3.77499861e-04\n",
      " 3.09299755e-04 4.15406449e-06 1.27576657e-04 1.38666268e-04\n",
      " 3.23346108e-04 2.74576613e-04 0.00000000e+00 3.29258661e-05\n",
      " 3.83774707e-04 0.00000000e+00 2.82850879e-04 0.00000000e+00\n",
      " 0.00000000e+00 1.47909421e-04 0.00000000e+00 0.00000000e+00\n",
      " 0.00000000e+00 0.00000000e+00 7.31257940e-05 1.23560966e-04\n",
      " 0.00000000e+00 3.63943304e-05 2.09887263e-04 3.98000058e-05\n",
      " 3.32670756e-04 3.86975316e-04 0.00000000e+00 0.00000000e+00\n",
      " 8.47114209e-05 3.31887518e-04 2.82706175e-04 0.00000000e+00\n",
      " 2.11208788e-04 0.00000000e+00 6.76320085e-05 9.27277323e-05\n",
      " 1.68152971e-04 3.30287952e-04]\n",
      "\n",
      "average w = [1.18959001e-03 0.00000000e+00 1.32550423e-05 0.00000000e+00\n",
      " 1.15804932e-03 5.74032845e-04 8.89682540e-02 7.72142857e-01\n",
      " 1.61015407e-03 1.23266128e-03 5.72407905e-02 3.73662626e-04\n",
      " 6.23828515e-04 1.11857381e-03 1.05991157e-03 2.07624923e-03\n",
      " 1.70114865e-03 2.28473547e-05 7.01671614e-04 7.62664473e-04\n",
      " 1.77840360e-03 1.51017137e-03 0.00000000e+00 1.81092263e-04\n",
      " 2.11076089e-03 0.00000000e+00 1.55567983e-03 0.00000000e+00\n",
      " 0.00000000e+00 8.13501813e-04 0.00000000e+00 0.00000000e+00\n",
      " 0.00000000e+00 0.00000000e+00 4.02191867e-04 6.79585313e-04\n",
      " 0.00000000e+00 2.00168817e-04 1.15437995e-03 2.18900032e-04\n",
      " 1.82968916e-03 2.12836424e-03 0.00000000e+00 0.00000000e+00\n",
      " 4.65912815e-04 1.82538135e-03 1.55488397e-03 0.00000000e+00\n",
      " 1.16164833e-03 0.00000000e+00 3.71976047e-04 5.10002528e-04\n",
      " 9.24841339e-04 1.81658373e-03]\n",
      "\n",
      "T = 10\n"
     ]
    }
   ],
   "source": [
    "print(f'OUTPUT:\\n\\nF(w_pred) = {fpred}\\n\\nF(w) = {f}\\n\\nw = {w}\\n\\naverage w = {mean}\\n\\nT = {t}')"
   ]
  },
  {
   "cell_type": "code",
   "execution_count": 28,
   "metadata": {},
   "outputs": [
    {
     "data": {
      "image/png": "[encoded data removed]",
      "text/plain": [
       "<Figure size 432x288 with 1 Axes>"
      ]
     },
     "metadata": {
      "needs_background": "light"
     },
     "output_type": "display_data"
    }
   ],
   "source": [
    "f_inex = np.load('../Data/results/function_IZFW_lasso.npy') # data from cluster\n",
    "F_eval = np.abs(f_inex/n - f_star)\n",
    "plt.plot(F_eval)\n",
    "plt.yscale(\"log\")\n",
    "plt.title(\"IZFW with m(t) < n\")\n",
    "plt.grid()"
   ]
  },
  {
   "cell_type": "code",
   "execution_count": 29,
   "metadata": {},
   "outputs": [
    {
     "data": {
      "image/png": "[encoded data removed]",
      "text/plain": [
       "<Figure size 432x288 with 1 Axes>"
      ]
     },
     "metadata": {
      "needs_background": "light"
     },
     "output_type": "display_data"
    }
   ],
   "source": [
    "F_eval = np.abs(f_inex/n - np.min(f_inex/n))\n",
    "plt.plot(F_eval)\n",
    "plt.yscale(\"log\")\n",
    "plt.title(\"IZFW with m(t) < n\")\n",
    "plt.grid()"
   ]
  },
  {
   "cell_type": "code",
   "execution_count": null,
   "metadata": {},
   "outputs": [],
   "source": []
  }
 ],
 "metadata": {
  "kernelspec": {
   "display_name": "Python 3",
   "language": "python",
   "name": "python3"
  },
  "language_info": {
   "codemirror_mode": {
    "name": "ipython",
    "version": 3
   },
   "file_extension": ".py",
   "mimetype": "text/x-python",
   "name": "python",
   "nbconvert_exporter": "python",
   "pygments_lexer": "ipython3",
   "version": "3.7.4"
  }
 },
 "nbformat": 4,
 "nbformat_minor": 4
}
