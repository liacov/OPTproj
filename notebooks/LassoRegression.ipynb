{
 "cells": [
  {
   "cell_type": "code",
   "execution_count": 1,
   "metadata": {},
   "outputs": [],
   "source": [
    "import numpy as np\n",
    "import matplotlib.pyplot as plt\n",
    "\n",
    "from sklearn import datasets\n",
    "from scipy.sparse.linalg import norm"
   ]
  },
  {
   "cell_type": "code",
   "execution_count": 2,
   "metadata": {},
   "outputs": [],
   "source": [
    "import sys\n",
    "sys.path.insert(0, \"../scripts\")\n",
    "\n",
    "from SZFW_lasso import *\n",
    "from DZFW_lasso import *\n",
    "from IZFW_lasso import *"
   ]
  },
  {
   "cell_type": "markdown",
   "metadata": {},
   "source": [
    "## Load data"
   ]
  },
  {
   "cell_type": "code",
   "execution_count": null,
   "metadata": {},
   "outputs": [],
   "source": [
    "# load data\n",
    "X, y = datasets.load_svmlight_file(\"../Data/covtype.libsvm.binary.scale.bz2\")"
   ]
  },
  {
   "cell_type": "code",
   "execution_count": 3,
   "metadata": {},
   "outputs": [],
   "source": [
    "def CreateDataSet(n, d, s):\n",
    "    \"\"\"\n",
    "    n rows, d features, s sparsity level\n",
    "    \"\"\"\n",
    "    np.random.seed(1007)\n",
    "    s = np.int(d * s)\n",
    "    X = np.random.randn(n,d) \n",
    "    pn = int(s/2)\n",
    "    w_star = np.concatenate((np.ones(pn), -np.ones(pn), np.zeros(d-2*pn)))\n",
    "    epsilon = 0.01*np.random.rand(n) # noise\n",
    "    y = X @ w_star + epsilon\n",
    "    return X, y, w_star"
   ]
  },
  {
   "cell_type": "code",
   "execution_count": 4,
   "metadata": {},
   "outputs": [],
   "source": [
    "X, y, w_star = CreateDataSet(n = 1000, d = 10000, s = 0.05)"
   ]
  },
  {
   "cell_type": "code",
   "execution_count": 5,
   "metadata": {},
   "outputs": [
    {
     "name": "stdout",
     "output_type": "stream",
     "text": [
      "Space Dimensions\n",
      "d: 10000\n",
      "n: 1000\n"
     ]
    }
   ],
   "source": [
    "# space dimension\n",
    "d = X.shape[1]\n",
    "n = y.shape[0]\n",
    "print(f\"Space Dimensions\\nd: {d}\")\n",
    "print(f\"n: {y.shape[0]}\")"
   ]
  },
  {
   "cell_type": "code",
   "execution_count": 6,
   "metadata": {},
   "outputs": [],
   "source": [
    "# define the objective function\n",
    "F = lambda w: 0.5/n * np.sum(np.power(y - X @ w, 2))"
   ]
  },
  {
   "cell_type": "code",
   "execution_count": 7,
   "metadata": {},
   "outputs": [
    {
     "data": {
      "text/plain": [
       "1.6672240155384557e-05"
      ]
     },
     "execution_count": 7,
     "metadata": {},
     "output_type": "execute_result"
    }
   ],
   "source": [
    "F(w_star)"
   ]
  },
  {
   "cell_type": "code",
   "execution_count": 14,
   "metadata": {},
   "outputs": [],
   "source": [
    "# initialize prarameters for the algorithm (in common for all the algorithms)\n",
    "\n",
    "# stating point, sparse\n",
    "np.random.seed(1007)\n",
    "w0 = np.random.rand(d)\n",
    "w0 = w0/np.sum(w0) * np.random.rand(1)\n",
    "\n",
    "#indeces = np.random.randint(low = 0, high = d-1, size = 20)\n",
    "#w0[indeces] = int(0)\n",
    "#w0 = np.zeros(d)\n",
    "#print(f\"w0: {w0}\")"
   ]
  },
  {
   "cell_type": "markdown",
   "metadata": {},
   "source": [
    "## Deterministic Gradient Free Frank Wolfe"
   ]
  },
  {
   "cell_type": "code",
   "execution_count": null,
   "metadata": {
    "scrolled": true
   },
   "outputs": [],
   "source": [
    "%%time\n",
    "\n",
    "# Lipschitz constant \n",
    "L = 3\n",
    "\n",
    "fpred, f, w, mean, t, loss, f_values = detZFW(F, L, d, w0, T=100)"
   ]
  },
  {
   "cell_type": "code",
   "execution_count": null,
   "metadata": {},
   "outputs": [],
   "source": [
    "print(f'OUTPUT:\\n\\nF(w0) = {F(w0)}\\n\\nF(w_pred) = {fpred}\\n\\nF(w) = {f}\\n\\nw = {w}\\n\\naverage w = {mean}\\n\\nT = {t}')"
   ]
  },
  {
   "cell_type": "code",
   "execution_count": null,
   "metadata": {},
   "outputs": [],
   "source": [
    "lossd = np.load(\"../Data/results/loss_dZFW_lasso.npy\") # data from colab (NOT NORMALIZED)\n",
    "f_d = np.load(\"../Data/results/function_dZFW_lasso.npy\")\n",
    "f_d = f_d/n\n",
    "f_star = np.min(f_d)"
   ]
  },
  {
   "cell_type": "code",
   "execution_count": null,
   "metadata": {},
   "outputs": [],
   "source": [
    "F_eval = np.abs(f_d - f_star)\n",
    "plt.plot(F_eval)\n",
    "plt.yscale(\"log\")\n",
    "plt.title(\"dZFW\")\n",
    "plt.xlabel(\"# iterations\")\n",
    "plt.ylabel(\"|f-f*|\")\n",
    "plt.grid()"
   ]
  },
  {
   "cell_type": "markdown",
   "metadata": {},
   "source": [
    "## Stochastic Gradient Free Frank Wolfe"
   ]
  },
  {
   "cell_type": "code",
   "execution_count": 15,
   "metadata": {
    "scrolled": true
   },
   "outputs": [
    {
     "name": "stdout",
     "output_type": "stream",
     "text": [
      "Loss evaluation at time 1:\t0.3052466\n",
      "\n",
      "Loss evaluation at time 2:\t0.1848613\n",
      "\n",
      "Loss evaluation at time 3:\t0.3150231\n",
      "\n",
      "Loss evaluation at time 4:\t0.2120389\n",
      "\n",
      "Loss evaluation at time 5:\t0.1846400\n",
      "\n",
      "Loss evaluation at time 6:\t0.1102747\n",
      "\n",
      "Loss evaluation at time 7:\t0.1149906\n",
      "\n",
      "Loss evaluation at time 8:\t0.0798518\n",
      "\n",
      "Loss evaluation at time 9:\t0.0566198\n",
      "\n",
      "Loss evaluation at time 10:\t0.0408765\n",
      "\n",
      "CPU times: user 2min 47s, sys: 7.18 s, total: 2min 54s\n",
      "Wall time: 47.5 s\n"
     ]
    }
   ],
   "source": [
    "%%time\n",
    "fpred, f, w, mean, t, loss, f_values = stochasticZFW(F, d, w0, method = \"IRDSA\", r=1, T=10, eps=1e-5)"
   ]
  },
  {
   "cell_type": "code",
   "execution_count": 18,
   "metadata": {},
   "outputs": [
    {
     "name": "stdout",
     "output_type": "stream",
     "text": [
      "OUTPUT:\n",
      "\n",
      "F(w0) = 260.2997537313835\n",
      "\n",
      "F(w_pred) = 258.73620713596404\n",
      "\n",
      "F(w) = 258.69533066765433\n",
      "\n",
      "w = [8.47903864e-07 1.23295420e-06 9.44779412e-09 ... 8.87326256e-07\n",
      " 1.02761386e-07 3.85205725e-07]\n",
      "\n",
      "average w = [1.80179571e-06 2.62002768e-06 2.00765625e-08 ... 1.88556829e-06\n",
      " 2.18367945e-07 8.18562166e-07]\n",
      "\n",
      "T = 10\n"
     ]
    }
   ],
   "source": [
    "print(f'OUTPUT:\\n\\nF(w0) = {F(w0)}\\n\\nF(w_pred) = {fpred}\\n\\nF(w) = {f}\\n\\nw = {w}\\n\\naverage w = {mean}\\n\\nT = {t}')"
   ]
  },
  {
   "cell_type": "code",
   "execution_count": 19,
   "metadata": {},
   "outputs": [
    {
     "data": {
      "text/plain": [
       "[<matplotlib.lines.Line2D at 0x7fd743f18c10>]"
      ]
     },
     "execution_count": 19,
     "metadata": {},
     "output_type": "execute_result"
    },
    {
     "data": {
      "image/png": "[encoded data removed]",
      "text/plain": [
       "<Figure size 432x288 with 1 Axes>"
      ]
     },
     "metadata": {
      "needs_background": "light"
     },
     "output_type": "display_data"
    }
   ],
   "source": [
    "plt.plot(f_values - F(w_star))"
   ]
  },
  {
   "cell_type": "code",
   "execution_count": null,
   "metadata": {},
   "outputs": [],
   "source": [
    "f_values"
   ]
  },
  {
   "cell_type": "code",
   "execution_count": null,
   "metadata": {},
   "outputs": [],
   "source": [
    "loss_stochm6 = np.load(\"../Data/results/loss_SZFWm6_lasso.npy\") # data from colab (NOT NORMALIZED)\n",
    "f_stochm6 = np.load(\"../Data/results/function_SZFWm6_lasso.npy\")\n",
    "f_stochm6 = f_stochm6/n"
   ]
  },
  {
   "cell_type": "code",
   "execution_count": null,
   "metadata": {},
   "outputs": [],
   "source": [
    "F_eval = np.abs(f_stochm6 - f_star)\n",
    "plt.plot(F_eval)\n",
    "plt.yscale(\"log\")\n",
    "plt.title(\"sZFW with IRDSA (m=6)\")\n",
    "plt.xlabel(\"# iterations\")\n",
    "plt.ylabel(\"|f-f*|\")\n",
    "plt.grid()"
   ]
  },
  {
   "cell_type": "code",
   "execution_count": null,
   "metadata": {},
   "outputs": [],
   "source": [
    "loss_stochm1 = np.load(\"../Data/results/loss_SZFWm1_lasso.npy\") # data from colab (NOT NORMALIZED)\n",
    "f_stochm1 = np.load(\"../Data/results/function_SZFWm1_lasso.npy\")\n",
    "f_stochm1 = f_stochm1/n"
   ]
  },
  {
   "cell_type": "code",
   "execution_count": null,
   "metadata": {},
   "outputs": [],
   "source": [
    "F_eval = np.abs(f_stochm6 - f_star)\n",
    "plt.plot(F_eval)\n",
    "plt.yscale(\"log\")\n",
    "plt.title(\"sZFW with RDSA (m=1)\")\n",
    "plt.xlabel(\"# iterations\")\n",
    "plt.ylabel(\"|f-f*|\")\n",
    "plt.grid()"
   ]
  },
  {
   "cell_type": "markdown",
   "metadata": {},
   "source": [
    "## Zeroth order stochastic accelerated gradient method with Inexact updates"
   ]
  },
  {
   "cell_type": "code",
   "execution_count": null,
   "metadata": {
    "scrolled": true
   },
   "outputs": [],
   "source": [
    "%%time \n",
    "\n",
    "# setting parameters\n",
    "L = 0.1\n",
    "D = 10000 # we will start from m = 6, up to T * (T+1) / D * (d+3) = 28785 (for T=100)\n",
    "B = 1\n",
    "\n",
    "fpred, f, w, mean, t, loss, f_values = IZFW(F, d, w0, L, B, r = 1, T = 10, eps = 1e-3)"
   ]
  },
  {
   "cell_type": "code",
   "execution_count": null,
   "metadata": {},
   "outputs": [],
   "source": [
    "print(f'OUTPUT:\\n\\nF(w_pred) = {fpred}\\n\\nF(w) = {f}\\n\\nw = {w}\\n\\naverage w = {mean}\\n\\nT = {t}')"
   ]
  },
  {
   "cell_type": "code",
   "execution_count": null,
   "metadata": {},
   "outputs": [],
   "source": [
    "f_inex = np.load('../Data/results/function_IZFW_lasso.npy') # data from cluster\n",
    "F_eval = np.abs(f_inex/n - f_star)\n",
    "plt.plot(F_eval)\n",
    "plt.yscale(\"log\")\n",
    "plt.title(\"IZFW with m(t) < n\")\n",
    "plt.grid()"
   ]
  },
  {
   "cell_type": "code",
   "execution_count": null,
   "metadata": {},
   "outputs": [],
   "source": [
    "F_eval = np.abs(f_inex/n - np.min(f_inex/n))\n",
    "plt.plot(F_eval)\n",
    "plt.yscale(\"log\")\n",
    "plt.title(\"IZFW with m(t) < n\")\n",
    "plt.grid()"
   ]
  },
  {
   "cell_type": "code",
   "execution_count": null,
   "metadata": {},
   "outputs": [],
   "source": []
  }
 ],
 "metadata": {
  "kernelspec": {
   "display_name": "Python 3",
   "language": "python",
   "name": "python3"
  },
  "language_info": {
   "codemirror_mode": {
    "name": "ipython",
    "version": 3
   },
   "file_extension": ".py",
   "mimetype": "text/x-python",
   "name": "python",
   "nbconvert_exporter": "python",
   "pygments_lexer": "ipython3",
   "version": "3.7.4"
  }
 },
 "nbformat": 4,
 "nbformat_minor": 4
}
