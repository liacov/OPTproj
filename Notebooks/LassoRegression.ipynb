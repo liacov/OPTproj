{
 "cells": [
  {
   "cell_type": "code",
   "execution_count": 1,
   "metadata": {},
   "outputs": [],
   "source": [
    "import numpy as np\n",
    "from scipy.sparse.linalg import svds\n",
    "from sklearn import datasets"
   ]
  },
  {
   "cell_type": "code",
   "execution_count": 20,
   "metadata": {},
   "outputs": [],
   "source": [
    "def e(i, d):\n",
    "    ei = np.zeros(d)\n",
    "    ei[i] = 1\n",
    "    return ei\n",
    "\n",
    "\n",
    "\n",
    "def KWSA(F, w, c, d):\n",
    "    \"\"\" \n",
    "    Kiefer-Wolfowitz stochastic approximation\n",
    "    for gradient estimation \n",
    "    \n",
    "    INPUT:\n",
    "    - F: objective function\n",
    "    - w: current weight\n",
    "    - d: dimension\n",
    "    - c: costant\n",
    "    \n",
    "    \"\"\"\n",
    "    np.ones(d)\n",
    "    g = np.zeros(d)\n",
    "    for i in range(d):\n",
    "        g[i] = (F(w + c * e(i, d)) - F(w))/c\n",
    "    return g\n",
    "\n",
    "\n",
    "\n",
    "def detZFW(F, L, d, w0, r=1, T=100, eps=1e-5):\n",
    "    \"\"\"\n",
    "    INPUT\n",
    "    - F: loss function\n",
    "    - L: Lip constant\n",
    "    - d: dimension\n",
    "    - w0: starting point\n",
    "    - r: radius of the ball\n",
    "    - T: max Iteration\n",
    "    - eps: tolerance\n",
    "    \"\"\"\n",
    "\n",
    "    gamma = lambda t: 2/(t+2)\n",
    "    c = lambda t: L*gamma(t)/d\n",
    "    w = w0\n",
    "    partial = 0\n",
    "    for t in range(1, T):\n",
    "        # comupute the gradient approx\n",
    "        gt = KWSA(F, w, c(t), d)\n",
    "        # comupute the linear problem solution ON L1 BALL\n",
    "        ei = e(np.argmax(np.abs(gt)), d)\n",
    "        v = np.sign(gt) * ei\n",
    "        # compute step \n",
    "        w_pred = w\n",
    "        w = (1 - gamma(t)) * w + gamma(t) * v\n",
    "        loss_eval = np.abs(F(w) - F(w_pred))\n",
    "        print(f\"Loss evaluation at time {t}:\\t{loss_eval:.2f}\\n\")\n",
    "        print(w)\n",
    "        partial += w\n",
    "        # check stopping condition\n",
    "        if loss_eval < eps:\n",
    "            break\n",
    "    return F(w_pred), F(w), w, partial/T, t"
   ]
  },
  {
   "cell_type": "markdown",
   "metadata": {},
   "source": [
    "## Stochastic lasso regression"
   ]
  },
  {
   "cell_type": "code",
   "execution_count": 3,
   "metadata": {},
   "outputs": [],
   "source": [
    "# load data\n",
    "X, y = datasets.load_svmlight_file(\"../Data/covtype.libsvm.binary.scale.bz2\")"
   ]
  },
  {
   "cell_type": "code",
   "execution_count": 4,
   "metadata": {},
   "outputs": [
    {
     "name": "stdout",
     "output_type": "stream",
     "text": [
      "Space Dimensions\n",
      "d: 54\n",
      "n: 581012\n"
     ]
    }
   ],
   "source": [
    "# space dimension\n",
    "d = X.shape[1]\n",
    "print(f\"Space Dimensions\\nd: {d}\")\n",
    "print(f\"n: {y.shape[0]}\")"
   ]
  },
  {
   "cell_type": "code",
   "execution_count": 5,
   "metadata": {},
   "outputs": [],
   "source": [
    "# define the objective function\n",
    "F = lambda w: 0.5 * sum(np.power(y - X @ w, 2))"
   ]
  },
  {
   "cell_type": "code",
   "execution_count": 18,
   "metadata": {},
   "outputs": [],
   "source": [
    "# initialize prarameters for the algorithm\n",
    "\n",
    "# stating point - TODO: randomize\n",
    "w0 = np.random.rand(d)\n",
    "w0 = w0/sum(w0)\n",
    "#print(w0)\n",
    "#print(F(w0))\n",
    "\n",
    "# Lipschitz constant computation\n",
    "L = 2/X.shape[0] * np.linalg.norm( X.T @ X )\n",
    "#print(L/52)\n",
    "L = 100 # which value consider???"
   ]
  },
  {
   "cell_type": "code",
   "execution_count": 114,
   "metadata": {},
   "outputs": [
    {
     "data": {
      "text/plain": [
       "<54x54 sparse matrix of type '<class 'numpy.float64'>'\n",
       "\twith 1174 stored elements in Compressed Sparse Column format>"
      ]
     },
     "execution_count": 114,
     "metadata": {},
     "output_type": "execute_result"
    }
   ],
   "source": [
    "X.T @ X "
   ]
  },
  {
   "cell_type": "code",
   "execution_count": 7,
   "metadata": {
    "scrolled": true
   },
   "outputs": [
    {
     "name": "stdout",
     "output_type": "stream",
     "text": [
      "Loss evaluation at time 0:\t1029722.59845063\n",
      "\n",
      "Loss evaluation at time 1:\t37980.44497389509\n",
      "\n",
      "Loss evaluation at time 2:\t10259.115671192994\n",
      "\n",
      "Loss evaluation at time 3:\t4189.21476412029\n",
      "\n",
      "Loss evaluation at time 4:\t2112.943489674246\n",
      "\n",
      "Loss evaluation at time 5:\t1212.884637331823\n",
      "\n",
      "Loss evaluation at time 6:\t760.0798483171966\n",
      "\n",
      "Loss evaluation at time 7:\t507.58611771278083\n",
      "\n",
      "Loss evaluation at time 8:\t355.7226021774113\n",
      "\n",
      "Loss evaluation at time 9:\t258.92062291968614\n",
      "\n",
      "Loss evaluation at time 10:\t194.30832990887575\n",
      "\n",
      "Loss evaluation at time 11:\t149.53669072431512\n",
      "\n",
      "Loss evaluation at time 12:\t117.53505098144524\n",
      "\n",
      "Loss evaluation at time 13:\t94.05461173178628\n",
      "\n",
      "Loss evaluation at time 14:\t76.43676308705471\n",
      "\n",
      "Loss evaluation at time 15:\t62.95962927560322\n",
      "\n",
      "Loss evaluation at time 16:\t52.4744363501668\n",
      "\n",
      "Loss evaluation at time 17:\t44.19469472696073\n",
      "\n",
      "Loss evaluation at time 18:\t37.56958400900476\n",
      "\n",
      "Loss evaluation at time 19:\t32.20549619314261\n",
      "\n",
      "Loss evaluation at time 20:\t27.816061433171853\n",
      "\n",
      "Loss evaluation at time 21:\t24.18955527874641\n",
      "\n",
      "Loss evaluation at time 22:\t21.167139990022406\n",
      "\n",
      "Loss evaluation at time 23:\t18.628070472273976\n",
      "\n",
      "Loss evaluation at time 24:\t16.47944889590144\n",
      "\n",
      "Loss evaluation at time 25:\t14.649004493840039\n",
      "\n",
      "Loss evaluation at time 26:\t13.079953314736485\n",
      "\n",
      "Loss evaluation at time 27:\t11.727240879554302\n",
      "\n",
      "Loss evaluation at time 28:\t10.554830395616591\n",
      "\n"
     ]
    },
    {
     "ename": "KeyboardInterrupt",
     "evalue": "",
     "output_type": "error",
     "traceback": [
      "\u001b[0;31m---------------------------------------------------------------------------\u001b[0m",
      "\u001b[0;31mKeyboardInterrupt\u001b[0m                         Traceback (most recent call last)",
      "\u001b[0;32m<ipython-input-7-ba64921facb6>\u001b[0m in \u001b[0;36m<module>\u001b[0;34m\u001b[0m\n\u001b[0;32m----> 1\u001b[0;31m \u001b[0mfpred\u001b[0m\u001b[0;34m,\u001b[0m \u001b[0mf\u001b[0m\u001b[0;34m,\u001b[0m \u001b[0mw\u001b[0m\u001b[0;34m,\u001b[0m \u001b[0mmean\u001b[0m\u001b[0;34m,\u001b[0m \u001b[0mt\u001b[0m \u001b[0;34m=\u001b[0m \u001b[0mdetZFW\u001b[0m\u001b[0;34m(\u001b[0m\u001b[0mF\u001b[0m\u001b[0;34m,\u001b[0m \u001b[0mL\u001b[0m\u001b[0;34m,\u001b[0m \u001b[0md\u001b[0m\u001b[0;34m,\u001b[0m \u001b[0mw0\u001b[0m\u001b[0;34m)\u001b[0m\u001b[0;34m\u001b[0m\u001b[0;34m\u001b[0m\u001b[0m\n\u001b[0m\u001b[1;32m      2\u001b[0m \u001b[0;34m\u001b[0m\u001b[0m\n\u001b[1;32m      3\u001b[0m print('F(w_pred) =', fpred, '\\n',\n\u001b[1;32m      4\u001b[0m       \u001b[0;34m'F(w) ='\u001b[0m\u001b[0;34m,\u001b[0m \u001b[0mf\u001b[0m\u001b[0;34m,\u001b[0m \u001b[0;34m'\\n'\u001b[0m\u001b[0;34m,\u001b[0m\u001b[0;34m\u001b[0m\u001b[0;34m\u001b[0m\u001b[0m\n\u001b[1;32m      5\u001b[0m       \u001b[0;34m'w ='\u001b[0m\u001b[0;34m,\u001b[0m \u001b[0mw\u001b[0m\u001b[0;34m,\u001b[0m \u001b[0;34m'\\n'\u001b[0m\u001b[0;34m,\u001b[0m\u001b[0;34m\u001b[0m\u001b[0;34m\u001b[0m\u001b[0m\n",
      "\u001b[0;32m<ipython-input-2-1f04a48f51f2>\u001b[0m in \u001b[0;36mdetZFW\u001b[0;34m(F, L, d, w0, r, T, eps)\u001b[0m\n\u001b[1;32m     44\u001b[0m     \u001b[0;32mfor\u001b[0m \u001b[0mt\u001b[0m \u001b[0;32min\u001b[0m \u001b[0mrange\u001b[0m\u001b[0;34m(\u001b[0m\u001b[0mT\u001b[0m\u001b[0;34m)\u001b[0m\u001b[0;34m:\u001b[0m\u001b[0;34m\u001b[0m\u001b[0;34m\u001b[0m\u001b[0m\n\u001b[1;32m     45\u001b[0m         \u001b[0;31m# comupute the gradient approx\u001b[0m\u001b[0;34m\u001b[0m\u001b[0;34m\u001b[0m\u001b[0;34m\u001b[0m\u001b[0m\n\u001b[0;32m---> 46\u001b[0;31m         \u001b[0mgt\u001b[0m \u001b[0;34m=\u001b[0m \u001b[0mKWSA\u001b[0m\u001b[0;34m(\u001b[0m\u001b[0mF\u001b[0m\u001b[0;34m,\u001b[0m \u001b[0mw\u001b[0m\u001b[0;34m,\u001b[0m \u001b[0mc\u001b[0m\u001b[0;34m(\u001b[0m\u001b[0mt\u001b[0m\u001b[0;34m)\u001b[0m\u001b[0;34m,\u001b[0m \u001b[0md\u001b[0m\u001b[0;34m)\u001b[0m\u001b[0;34m\u001b[0m\u001b[0;34m\u001b[0m\u001b[0m\n\u001b[0m\u001b[1;32m     47\u001b[0m         \u001b[0;31m# comupute the linear problem solution ON L1 BALL\u001b[0m\u001b[0;34m\u001b[0m\u001b[0;34m\u001b[0m\u001b[0;34m\u001b[0m\u001b[0m\n\u001b[1;32m     48\u001b[0m         \u001b[0mei\u001b[0m \u001b[0;34m=\u001b[0m \u001b[0me\u001b[0m\u001b[0;34m(\u001b[0m\u001b[0mnp\u001b[0m\u001b[0;34m.\u001b[0m\u001b[0margmax\u001b[0m\u001b[0;34m(\u001b[0m\u001b[0mnp\u001b[0m\u001b[0;34m.\u001b[0m\u001b[0mabs\u001b[0m\u001b[0;34m(\u001b[0m\u001b[0mgt\u001b[0m\u001b[0;34m)\u001b[0m\u001b[0;34m)\u001b[0m\u001b[0;34m,\u001b[0m \u001b[0md\u001b[0m\u001b[0;34m)\u001b[0m\u001b[0;34m\u001b[0m\u001b[0;34m\u001b[0m\u001b[0m\n",
      "\u001b[0;32m<ipython-input-2-1f04a48f51f2>\u001b[0m in \u001b[0;36mKWSA\u001b[0;34m(F, w, c, d)\u001b[0m\n\u001b[1;32m     21\u001b[0m     \u001b[0mg\u001b[0m \u001b[0;34m=\u001b[0m \u001b[0mnp\u001b[0m\u001b[0;34m.\u001b[0m\u001b[0mzeros\u001b[0m\u001b[0;34m(\u001b[0m\u001b[0md\u001b[0m\u001b[0;34m)\u001b[0m\u001b[0;34m\u001b[0m\u001b[0;34m\u001b[0m\u001b[0m\n\u001b[1;32m     22\u001b[0m     \u001b[0;32mfor\u001b[0m \u001b[0mi\u001b[0m \u001b[0;32min\u001b[0m \u001b[0mrange\u001b[0m\u001b[0;34m(\u001b[0m\u001b[0md\u001b[0m\u001b[0;34m)\u001b[0m\u001b[0;34m:\u001b[0m\u001b[0;34m\u001b[0m\u001b[0;34m\u001b[0m\u001b[0m\n\u001b[0;32m---> 23\u001b[0;31m         \u001b[0mg\u001b[0m\u001b[0;34m[\u001b[0m\u001b[0mi\u001b[0m\u001b[0;34m]\u001b[0m \u001b[0;34m=\u001b[0m \u001b[0;34m(\u001b[0m\u001b[0mF\u001b[0m\u001b[0;34m(\u001b[0m\u001b[0mw\u001b[0m \u001b[0;34m+\u001b[0m \u001b[0mc\u001b[0m \u001b[0;34m*\u001b[0m \u001b[0me\u001b[0m\u001b[0;34m(\u001b[0m\u001b[0mi\u001b[0m\u001b[0;34m,\u001b[0m \u001b[0md\u001b[0m\u001b[0;34m)\u001b[0m\u001b[0;34m)\u001b[0m \u001b[0;34m-\u001b[0m \u001b[0mF\u001b[0m\u001b[0;34m(\u001b[0m\u001b[0mw\u001b[0m\u001b[0;34m)\u001b[0m\u001b[0;34m)\u001b[0m\u001b[0;34m/\u001b[0m\u001b[0mc\u001b[0m\u001b[0;34m\u001b[0m\u001b[0;34m\u001b[0m\u001b[0m\n\u001b[0m\u001b[1;32m     24\u001b[0m     \u001b[0;32mreturn\u001b[0m \u001b[0mg\u001b[0m\u001b[0;34m\u001b[0m\u001b[0;34m\u001b[0m\u001b[0m\n\u001b[1;32m     25\u001b[0m \u001b[0;34m\u001b[0m\u001b[0m\n",
      "\u001b[0;32m<ipython-input-5-8d66641cbde2>\u001b[0m in \u001b[0;36m<lambda>\u001b[0;34m(w)\u001b[0m\n\u001b[1;32m      1\u001b[0m \u001b[0;31m# define the objective function\u001b[0m\u001b[0;34m\u001b[0m\u001b[0;34m\u001b[0m\u001b[0;34m\u001b[0m\u001b[0m\n\u001b[0;32m----> 2\u001b[0;31m \u001b[0mF\u001b[0m \u001b[0;34m=\u001b[0m \u001b[0;32mlambda\u001b[0m \u001b[0mw\u001b[0m\u001b[0;34m:\u001b[0m \u001b[0;36m0.5\u001b[0m \u001b[0;34m*\u001b[0m \u001b[0msum\u001b[0m\u001b[0;34m(\u001b[0m\u001b[0mnp\u001b[0m\u001b[0;34m.\u001b[0m\u001b[0mpower\u001b[0m\u001b[0;34m(\u001b[0m\u001b[0my\u001b[0m \u001b[0;34m-\u001b[0m \u001b[0mX\u001b[0m \u001b[0;34m@\u001b[0m \u001b[0mw\u001b[0m\u001b[0;34m,\u001b[0m \u001b[0;36m2\u001b[0m\u001b[0;34m)\u001b[0m\u001b[0;34m)\u001b[0m\u001b[0;34m\u001b[0m\u001b[0;34m\u001b[0m\u001b[0m\n\u001b[0m",
      "\u001b[0;31mKeyboardInterrupt\u001b[0m: "
     ]
    }
   ],
   "source": [
    "fpred, f, w, mean, t = detZFW(F, L, d, w0)\n",
    "\n",
    "print('F(w_pred) =', fpred, '\\n',\n",
    "      'F(w) =', f, '\\n',\n",
    "      'w =', w, '\\n',\n",
    "      'mean w =', mean, '\\n',\n",
    "      't =', t)"
   ]
  },
  {
   "cell_type": "code",
   "execution_count": null,
   "metadata": {},
   "outputs": [],
   "source": []
  }
 ],
 "metadata": {
  "kernelspec": {
   "display_name": "Python 3",
   "language": "python",
   "name": "python3"
  },
  "language_info": {
   "codemirror_mode": {
    "name": "ipython",
    "version": 3
   },
   "file_extension": ".py",
   "mimetype": "text/x-python",
   "name": "python",
   "nbconvert_exporter": "python",
   "pygments_lexer": "ipython3",
   "version": "3.7.4"
  }
 },
 "nbformat": 4,
 "nbformat_minor": 4
}
